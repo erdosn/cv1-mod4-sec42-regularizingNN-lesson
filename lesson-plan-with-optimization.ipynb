{
 "cells": [
  {
   "cell_type": "markdown",
   "metadata": {},
   "source": [
    "Most of this code can be found at <a href='https://keras.io'>keras.io</a>"
   ]
  },
  {
   "cell_type": "markdown",
   "metadata": {},
   "source": [
    "### Questions\n",
    "- How do we organize our workflow for NN\n",
    "    - Is there a graphic that displays this?\n",
    "- Train/Test/Validation hold out\n",
    "\n",
    "\n",
    "### Objectives\n",
    "YWBAT\n",
    "- optimize NNs by tuning hyperparameters\n",
    "- explain various parameters of our NN hyperparameters\n",
    "    - i.e. tuning 'meta-parameters'"
   ]
  },
  {
   "cell_type": "markdown",
   "metadata": {},
   "source": [
    "# Useful Inputs"
   ]
  },
  {
   "cell_type": "code",
   "execution_count": 15,
   "metadata": {
    "ExecuteTime": {
     "end_time": "2019-06-18T16:18:12.782645Z",
     "start_time": "2019-06-18T16:18:11.185732Z"
    }
   },
   "outputs": [],
   "source": [
    "import keras\n",
    "import numpy as np\n",
    "import pandas as pd\n",
    "\n",
    "import matplotlib.pyplot as plt"
   ]
  },
  {
   "cell_type": "code",
   "execution_count": 16,
   "metadata": {
    "ExecuteTime": {
     "end_time": "2019-06-18T16:18:13.087187Z",
     "start_time": "2019-06-18T16:18:13.082385Z"
    }
   },
   "outputs": [],
   "source": [
    "from keras import models\n",
    "from keras import layers\n",
    "from keras import optimizers"
   ]
  },
  {
   "cell_type": "markdown",
   "metadata": {},
   "source": [
    "# Obtaining Dataset & Train-Test Split"
   ]
  },
  {
   "cell_type": "markdown",
   "metadata": {},
   "source": [
    "Nothing different from training other models"
   ]
  },
  {
   "cell_type": "code",
   "execution_count": 17,
   "metadata": {
    "ExecuteTime": {
     "end_time": "2019-06-18T16:18:13.048684Z",
     "start_time": "2019-06-18T16:18:12.784941Z"
    }
   },
   "outputs": [
    {
     "name": "stderr",
     "output_type": "stream",
     "text": [
      "/anaconda3/lib/python3.7/site-packages/sklearn/preprocessing/_encoders.py:415: FutureWarning: The handling of integer data will change in version 0.22. Currently, the categories are determined based on the range [0, max(values)], while in the future they will be determined based on the unique values.\n",
      "If you want the future behaviour and silence this warning, you can specify \"categories='auto'\".\n",
      "In case you used a LabelEncoder before this OneHotEncoder to convert the categories to integers, then you can now use the OneHotEncoder directly.\n",
      "  warnings.warn(msg, FutureWarning)\n"
     ]
    }
   ],
   "source": [
    "from sklearn.datasets import load_iris\n",
    "from sklearn.model_selection import train_test_split\n",
    "from sklearn.preprocessing import OneHotEncoder, StandardScaler\n",
    "\n",
    "iris = load_iris()\n",
    "x = iris['data']\n",
    "y = iris['target']\n",
    "names = iris['target_names']\n",
    "feature_names = iris['feature_names']\n",
    "\n",
    "# One hot encoding\n",
    "enc = OneHotEncoder()\n",
    "y = enc.fit_transform(y[:, np.newaxis]).toarray()\n",
    "\n",
    "# Scale data to have mean 0 and variance 1 \n",
    "# which is importance for convergence of the neural network\n",
    "scaler = StandardScaler()\n",
    "x_scaled = scaler.fit_transform(x)\n",
    "\n",
    "# Split the data set into training and testing\n",
    "x_train, x_test, y_train, y_test = train_test_split(x_scaled, y, test_size=0.4, random_state=2)"
   ]
  },
  {
   "cell_type": "code",
   "execution_count": 20,
   "metadata": {},
   "outputs": [
    {
     "data": {
      "text/html": [
       "<div>\n",
       "<style scoped>\n",
       "    .dataframe tbody tr th:only-of-type {\n",
       "        vertical-align: middle;\n",
       "    }\n",
       "\n",
       "    .dataframe tbody tr th {\n",
       "        vertical-align: top;\n",
       "    }\n",
       "\n",
       "    .dataframe thead th {\n",
       "        text-align: right;\n",
       "    }\n",
       "</style>\n",
       "<table border=\"1\" class=\"dataframe\">\n",
       "  <thead>\n",
       "    <tr style=\"text-align: right;\">\n",
       "      <th></th>\n",
       "      <th>fLength:</th>\n",
       "      <th>fWidth:</th>\n",
       "      <th>fSize:</th>\n",
       "      <th>fConc:</th>\n",
       "      <th>fConc1:</th>\n",
       "      <th>fAsym:</th>\n",
       "      <th>fM3Long:</th>\n",
       "      <th>fM3Trans:</th>\n",
       "      <th>fAlpha:</th>\n",
       "      <th>fDist:</th>\n",
       "      <th>class:</th>\n",
       "    </tr>\n",
       "  </thead>\n",
       "  <tbody>\n",
       "    <tr>\n",
       "      <th>0</th>\n",
       "      <td>28.7967</td>\n",
       "      <td>16.0021</td>\n",
       "      <td>2.6449</td>\n",
       "      <td>0.3918</td>\n",
       "      <td>0.1982</td>\n",
       "      <td>27.7004</td>\n",
       "      <td>22.0110</td>\n",
       "      <td>-8.2027</td>\n",
       "      <td>40.0920</td>\n",
       "      <td>81.8828</td>\n",
       "      <td>g</td>\n",
       "    </tr>\n",
       "    <tr>\n",
       "      <th>1</th>\n",
       "      <td>31.6036</td>\n",
       "      <td>11.7235</td>\n",
       "      <td>2.5185</td>\n",
       "      <td>0.5303</td>\n",
       "      <td>0.3773</td>\n",
       "      <td>26.2722</td>\n",
       "      <td>23.8238</td>\n",
       "      <td>-9.9574</td>\n",
       "      <td>6.3609</td>\n",
       "      <td>205.2610</td>\n",
       "      <td>g</td>\n",
       "    </tr>\n",
       "  </tbody>\n",
       "</table>\n",
       "</div>"
      ],
      "text/plain": [
       "   fLength:  fWidth:  fSize:  fConc:  fConc1:   fAsym:  fM3Long:  fM3Trans:  \\\n",
       "0   28.7967  16.0021  2.6449  0.3918   0.1982  27.7004   22.0110    -8.2027   \n",
       "1   31.6036  11.7235  2.5185  0.5303   0.3773  26.2722   23.8238    -9.9574   \n",
       "\n",
       "   fAlpha:    fDist: class:  \n",
       "0  40.0920   81.8828      g  \n",
       "1   6.3609  205.2610      g  "
      ]
     },
     "execution_count": 20,
     "metadata": {},
     "output_type": "execute_result"
    }
   ],
   "source": [
    "df = pd.read_csv(\"MagicTelescope.csv\")\n",
    "df.drop(\"ID\", axis=1, inplace=True)\n",
    "df.head(2)"
   ]
  },
  {
   "cell_type": "code",
   "execution_count": 27,
   "metadata": {},
   "outputs": [],
   "source": [
    "X = df.drop(\"class:\", axis=1)\n",
    "y = df[\"class:\"]"
   ]
  },
  {
   "cell_type": "code",
   "execution_count": 28,
   "metadata": {},
   "outputs": [],
   "source": [
    "enc = OneHotEncoder()"
   ]
  },
  {
   "cell_type": "code",
   "execution_count": 29,
   "metadata": {},
   "outputs": [
    {
     "data": {
      "text/plain": [
       "array([[1., 0.],\n",
       "       [1., 0.],\n",
       "       [1., 0.]])"
      ]
     },
     "execution_count": 29,
     "metadata": {},
     "output_type": "execute_result"
    }
   ],
   "source": [
    "y = enc.fit_transform(y[:, np.newaxis]).toarray()\n",
    "y[:3]"
   ]
  },
  {
   "cell_type": "code",
   "execution_count": 30,
   "metadata": {},
   "outputs": [],
   "source": [
    "# Scale data to have mean 0 and variance 1 \n",
    "# which is importance for convergence of the neural network\n",
    "scaler = StandardScaler()\n",
    "x_scaled = scaler.fit_transform(X)\n",
    "\n",
    "# Split the data set into training and testing\n",
    "x_train, x_test, y_train, y_test = train_test_split(x_scaled, y, test_size=0.4, random_state=2)"
   ]
  },
  {
   "cell_type": "code",
   "execution_count": 47,
   "metadata": {},
   "outputs": [
    {
     "data": {
      "text/plain": [
       "((11412, 10), (11412, 2))"
      ]
     },
     "execution_count": 47,
     "metadata": {},
     "output_type": "execute_result"
    }
   ],
   "source": [
    "x_train.shape, y_train.shape"
   ]
  },
  {
   "cell_type": "markdown",
   "metadata": {},
   "source": [
    "# Creating a Neural Network"
   ]
  },
  {
   "cell_type": "markdown",
   "metadata": {},
   "source": [
    "`Sequential` is referring to the neural networks we've observed. There are other neural network models that will go beyond this class."
   ]
  },
  {
   "cell_type": "code",
   "execution_count": 58,
   "metadata": {
    "ExecuteTime": {
     "end_time": "2019-06-18T16:18:13.126356Z",
     "start_time": "2019-06-18T16:18:13.090188Z"
    }
   },
   "outputs": [],
   "source": [
    "from keras.models import Sequential\n",
    "\n",
    "model = Sequential()"
   ]
  },
  {
   "cell_type": "markdown",
   "metadata": {},
   "source": [
    "The actual network; we can decide how many layers & nodes for each layer here as well as other hyperparameters like the activation function."
   ]
  },
  {
   "cell_type": "code",
   "execution_count": 59,
   "metadata": {
    "ExecuteTime": {
     "end_time": "2019-06-18T19:28:01.843032Z",
     "start_time": "2019-06-18T19:27:59.181321Z"
    }
   },
   "outputs": [],
   "source": [
    "from keras.layers import Dense\n",
    "\n",
    "model.add(Dense(units=16, activation='relu', input_dim=10))\n",
    "model.add(Dense(units=2, activation='softmax'))"
   ]
  },
  {
   "cell_type": "markdown",
   "metadata": {},
   "source": [
    "Compile the model to a form that the computer can more easily work with"
   ]
  },
  {
   "cell_type": "code",
   "execution_count": 60,
   "metadata": {
    "ExecuteTime": {
     "end_time": "2019-06-18T16:18:13.223984Z",
     "start_time": "2019-06-18T16:18:13.187420Z"
    }
   },
   "outputs": [],
   "source": [
    "model.compile(loss=keras.losses.categorical_crossentropy, \n",
    "              optimizer=optimizers.SGD(lr=0.001, momentum=0.9, nesterov=True))"
   ]
  },
  {
   "cell_type": "code",
   "execution_count": 61,
   "metadata": {},
   "outputs": [
    {
     "name": "stdout",
     "output_type": "stream",
     "text": [
      "_________________________________________________________________\n",
      "Layer (type)                 Output Shape              Param #   \n",
      "=================================================================\n",
      "dense_17 (Dense)             (None, 16)                176       \n",
      "_________________________________________________________________\n",
      "dense_18 (Dense)             (None, 2)                 34        \n",
      "=================================================================\n",
      "Total params: 210\n",
      "Trainable params: 210\n",
      "Non-trainable params: 0\n",
      "_________________________________________________________________\n"
     ]
    }
   ],
   "source": [
    "model.summary()"
   ]
  },
  {
   "cell_type": "markdown",
   "metadata": {},
   "source": [
    "# Using the Model"
   ]
  },
  {
   "cell_type": "markdown",
   "metadata": {},
   "source": [
    "Using the model structure, we do sequences of feedfoward and then backpropagation to adjust the weights and biases (training/fitting)"
   ]
  },
  {
   "cell_type": "code",
   "execution_count": 62,
   "metadata": {
    "ExecuteTime": {
     "end_time": "2019-06-18T16:18:23.443468Z",
     "start_time": "2019-06-18T16:18:13.227101Z"
    },
    "scrolled": false
   },
   "outputs": [
    {
     "name": "stdout",
     "output_type": "stream",
     "text": [
      "WARNING:tensorflow:From /anaconda3/lib/python3.7/site-packages/tensorflow/python/ops/math_ops.py:3066: to_int32 (from tensorflow.python.ops.math_ops) is deprecated and will be removed in a future version.\n",
      "Instructions for updating:\n",
      "Use tf.cast instead.\n",
      "Epoch 1/100\n",
      "11412/11412 [==============================] - 1s 129us/step - loss: 0.5301\n",
      "Epoch 2/100\n",
      "11412/11412 [==============================] - 1s 78us/step - loss: 0.4314: 0s - loss\n",
      "Epoch 3/100\n",
      "11412/11412 [==============================] - 1s 70us/step - loss: 0.4006\n",
      "Epoch 4/100\n",
      "11412/11412 [==============================] - 1s 72us/step - loss: 0.3845\n",
      "Epoch 5/100\n",
      "11412/11412 [==============================] - 1s 67us/step - loss: 0.3746\n",
      "Epoch 6/100\n",
      "11412/11412 [==============================] - 1s 83us/step - loss: 0.3675\n",
      "Epoch 7/100\n",
      "11412/11412 [==============================] - 1s 90us/step - loss: 0.3618: 0\n",
      "Epoch 8/100\n",
      "11412/11412 [==============================] - 1s 87us/step - loss: 0.3572: 0s - loss - ETA: 0s - loss: 0.\n",
      "Epoch 9/100\n",
      "11412/11412 [==============================] - 1s 88us/step - loss: 0.3531\n",
      "Epoch 10/100\n",
      "11412/11412 [==============================] - 1s 105us/step - loss: 0.3501 0s - loss: 0.3\n",
      "Epoch 11/100\n",
      "11412/11412 [==============================] - 1s 94us/step - loss: 0.3474: 0\n",
      "Epoch 12/100\n",
      "11412/11412 [==============================] - 1s 83us/step - loss: 0.3452\n",
      "Epoch 13/100\n",
      "11412/11412 [==============================] - 1s 86us/step - loss: 0.3434: 0s - loss\n",
      "Epoch 14/100\n",
      "11412/11412 [==============================] - 1s 89us/step - loss: 0.3417: 0s\n",
      "Epoch 15/100\n",
      "11412/11412 [==============================] - 1s 104us/step - loss: 0.3401 0s - lo\n",
      "Epoch 16/100\n",
      "11412/11412 [==============================] - 1s 104us/step - loss: 0.3387 0s - \n",
      "Epoch 17/100\n",
      "11412/11412 [==============================] - 1s 95us/step - loss: 0.3381\n",
      "Epoch 18/100\n",
      "11412/11412 [==============================] - 1s 95us/step - loss: 0.3367: 0s - loss: 0.337\n",
      "Epoch 19/100\n",
      "11412/11412 [==============================] - 1s 90us/step - loss: 0.3358: 0\n",
      "Epoch 20/100\n",
      "11412/11412 [==============================] - 1s 88us/step - loss: 0.3348: 0s - loss: 0.337 - ETA: 0s \n",
      "Epoch 21/100\n",
      "11412/11412 [==============================] - 1s 91us/step - loss: 0.3340: 0s - loss: 0.3\n",
      "Epoch 22/100\n",
      "11412/11412 [==============================] - 1s 88us/step - loss: 0.3325: 0s - loss: 0.339 - ETA: 0s - lo - ETA: 0s - loss: 0.\n",
      "Epoch 23/100\n",
      "11412/11412 [==============================] - 1s 102us/step - loss: 0.3324 0s - loss: 0.3\n",
      "Epoch 24/100\n",
      "11412/11412 [==============================] - 1s 95us/step - loss: 0.3316\n",
      "Epoch 25/100\n",
      "11412/11412 [==============================] - 1s 89us/step - loss: 0.3307: 0s - \n",
      "Epoch 26/100\n",
      "11412/11412 [==============================] - 1s 94us/step - loss: 0.3300\n",
      "Epoch 27/100\n",
      "11412/11412 [==============================] - 1s 85us/step - loss: 0.3294\n",
      "Epoch 28/100\n",
      "11412/11412 [==============================] - 1s 82us/step - loss: 0.3289\n",
      "Epoch 29/100\n",
      "11412/11412 [==============================] - 1s 93us/step - loss: 0.3282: 0s - loss: 0\n",
      "Epoch 30/100\n",
      "11412/11412 [==============================] - 1s 82us/step - loss: 0.3278\n",
      "Epoch 31/100\n",
      "11412/11412 [==============================] - 1s 85us/step - loss: 0.3274\n",
      "Epoch 32/100\n",
      "11412/11412 [==============================] - 1s 95us/step - loss: 0.3268: 0s - loss: 0 - ETA: 0s - loss\n",
      "Epoch 33/100\n",
      "11412/11412 [==============================] - 1s 79us/step - loss: 0.3264\n",
      "Epoch 34/100\n",
      "11412/11412 [==============================] - 1s 81us/step - loss: 0.3257\n",
      "Epoch 35/100\n",
      "11412/11412 [==============================] - 1s 82us/step - loss: 0.3253\n",
      "Epoch 36/100\n",
      "11412/11412 [==============================] - 1s 85us/step - loss: 0.3246: 0s - l\n",
      "Epoch 37/100\n",
      "11412/11412 [==============================] - 1s 87us/step - loss: 0.3243\n",
      "Epoch 38/100\n",
      "11412/11412 [==============================] - 1s 87us/step - loss: 0.3242\n",
      "Epoch 39/100\n",
      "11412/11412 [==============================] - 1s 89us/step - loss: 0.3237: 0s - lo\n",
      "Epoch 40/100\n",
      "11412/11412 [==============================] - 1s 88us/step - loss: 0.3234: \n",
      "Epoch 41/100\n",
      "11412/11412 [==============================] - 1s 89us/step - loss: 0.3226: 0s - loss: 0.322\n",
      "Epoch 42/100\n",
      "11412/11412 [==============================] - 1s 87us/step - loss: 0.3225: 0s - loss: 0.32\n",
      "Epoch 43/100\n",
      "11412/11412 [==============================] - 1s 87us/step - loss: 0.3220: 0s - loss: 0.31\n",
      "Epoch 44/100\n",
      "11412/11412 [==============================] - 1s 83us/step - loss: 0.3223: 0s - lo\n",
      "Epoch 45/100\n",
      "11412/11412 [==============================] - 1s 82us/step - loss: 0.3216\n",
      "Epoch 46/100\n",
      "11412/11412 [==============================] - 1s 82us/step - loss: 0.3215\n",
      "Epoch 47/100\n",
      "11412/11412 [==============================] - 1s 91us/step - loss: 0.3207: 0s - loss: 0.3\n",
      "Epoch 48/100\n",
      "11412/11412 [==============================] - 1s 97us/step - loss: 0.3208\n",
      "Epoch 49/100\n",
      "11412/11412 [==============================] - 1s 94us/step - loss: 0.3203\n",
      "Epoch 50/100\n",
      "11412/11412 [==============================] - 1s 94us/step - loss: 0.3205: 0s - loss: 0.3\n",
      "Epoch 51/100\n",
      "11412/11412 [==============================] - 2s 132us/step - loss: 0.3199\n",
      "Epoch 52/100\n",
      "11412/11412 [==============================] - 1s 118us/step - loss: 0.3203\n",
      "Epoch 53/100\n",
      "11412/11412 [==============================] - 1s 103us/step - loss: 0.3194\n",
      "Epoch 54/100\n",
      "11412/11412 [==============================] - 1s 99us/step - loss: 0.3192: 0s - loss: 0.\n",
      "Epoch 55/100\n",
      "11412/11412 [==============================] - 1s 106us/step - loss: 0.3191 0s - loss: 0.3 - ETA: 0s - loss:\n",
      "Epoch 56/100\n",
      "11412/11412 [==============================] - 1s 86us/step - loss: 0.3187\n",
      "Epoch 57/100\n",
      "11412/11412 [==============================] - 1s 86us/step - loss: 0.3183\n",
      "Epoch 58/100\n",
      "11412/11412 [==============================] - 1s 88us/step - loss: 0.3181: 0s - loss: 0 - ETA: 0s - lo\n",
      "Epoch 59/100\n",
      "11412/11412 [==============================] - 1s 89us/step - loss: 0.3184: 0s - loss: 0.32\n",
      "Epoch 60/100\n",
      "11412/11412 [==============================] - 1s 100us/step - loss: 0.3176\n",
      "Epoch 61/100\n",
      "11412/11412 [==============================] - 1s 76us/step - loss: 0.3170: 0s - loss\n",
      "Epoch 62/100\n",
      "11412/11412 [==============================] - 1s 84us/step - loss: 0.3174: 0s - loss: 0.314\n",
      "Epoch 63/100\n",
      "11412/11412 [==============================] - 1s 78us/step - loss: 0.3171\n",
      "Epoch 64/100\n",
      "11412/11412 [==============================] - 1s 82us/step - loss: 0.3168\n",
      "Epoch 65/100\n",
      "11412/11412 [==============================] - 1s 76us/step - loss: 0.3163: 0s - l\n",
      "Epoch 66/100\n",
      "11412/11412 [==============================] - 1s 71us/step - loss: 0.3159\n",
      "Epoch 67/100\n",
      "11412/11412 [==============================] - 1s 79us/step - loss: 0.3159: 0s - loss: - ETA: 0s - loss: 0.31\n",
      "Epoch 68/100\n",
      "11412/11412 [==============================] - 1s 77us/step - loss: 0.3153: 0s - \n",
      "Epoch 69/100\n",
      "11412/11412 [==============================] - 1s 69us/step - loss: 0.3154: 0s - loss: 0.3\n",
      "Epoch 70/100\n",
      "11412/11412 [==============================] - 1s 91us/step - loss: 0.3156: 0s - loss: - ETA: 0s - loss: \n",
      "Epoch 71/100\n",
      "11412/11412 [==============================] - 1s 77us/step - loss: 0.3150: 0s - loss:  - ETA: 0s - loss: 0.\n",
      "Epoch 72/100\n",
      "11412/11412 [==============================] - 1s 74us/step - loss: 0.3148\n",
      "Epoch 73/100\n",
      "11412/11412 [==============================] - 1s 81us/step - loss: 0.3144\n",
      "Epoch 74/100\n",
      "11412/11412 [==============================] - 1s 79us/step - loss: 0.3144: 0s - loss: 0.31\n",
      "Epoch 75/100\n",
      "11412/11412 [==============================] - 1s 86us/step - loss: 0.3141\n",
      "Epoch 76/100\n",
      "11412/11412 [==============================] - 1s 84us/step - loss: 0.3145: 0s - loss: \n",
      "Epoch 77/100\n",
      "11412/11412 [==============================] - 1s 81us/step - loss: 0.3137\n",
      "Epoch 78/100\n",
      "11412/11412 [==============================] - 1s 78us/step - loss: 0.3134\n",
      "Epoch 79/100\n",
      "11412/11412 [==============================] - 1s 85us/step - loss: 0.3135\n",
      "Epoch 80/100\n",
      "11412/11412 [==============================] - 1s 82us/step - loss: 0.3133\n",
      "Epoch 81/100\n",
      "11412/11412 [==============================] - 1s 70us/step - loss: 0.3130: 0s - lo\n",
      "Epoch 82/100\n"
     ]
    },
    {
     "name": "stdout",
     "output_type": "stream",
     "text": [
      "11412/11412 [==============================] - 1s 80us/step - loss: 0.3132: 0s - loss: 0.3 - ETA: 0s - loss: 0.30 - ETA: 0s - loss: 0.3 - ETA: 0s - loss: 0\n",
      "Epoch 83/100\n",
      "11412/11412 [==============================] - 1s 92us/step - loss: 0.3126\n",
      "Epoch 84/100\n",
      "11412/11412 [==============================] - 1s 84us/step - loss: 0.3131\n",
      "Epoch 85/100\n",
      "11412/11412 [==============================] - 1s 83us/step - loss: 0.3125: 0s - loss: 0.313 - ETA: 0s - loss: 0.\n",
      "Epoch 86/100\n",
      "11412/11412 [==============================] - 1s 73us/step - loss: 0.3118\n",
      "Epoch 87/100\n",
      "11412/11412 [==============================] - 1s 68us/step - loss: 0.3117\n",
      "Epoch 88/100\n",
      "11412/11412 [==============================] - 1s 84us/step - loss: 0.3114\n",
      "Epoch 89/100\n",
      "11412/11412 [==============================] - 1s 90us/step - loss: 0.3117: 0s - lo\n",
      "Epoch 90/100\n",
      "11412/11412 [==============================] - 1s 93us/step - loss: 0.3114: 0s \n",
      "Epoch 91/100\n",
      "11412/11412 [==============================] - 1s 87us/step - loss: 0.3111\n",
      "Epoch 92/100\n",
      "11412/11412 [==============================] - 1s 89us/step - loss: 0.3110\n",
      "Epoch 93/100\n",
      "11412/11412 [==============================] - 1s 88us/step - loss: 0.3112\n",
      "Epoch 94/100\n",
      "11412/11412 [==============================] - 1s 90us/step - loss: 0.3108\n",
      "Epoch 95/100\n",
      "11412/11412 [==============================] - 1s 90us/step - loss: 0.3108\n",
      "Epoch 96/100\n",
      "11412/11412 [==============================] - 1s 84us/step - loss: 0.3110: 0s - loss:\n",
      "Epoch 97/100\n",
      "11412/11412 [==============================] - 1s 89us/step - loss: 0.3103: 0s -  - ETA: 0s - loss: 0.310\n",
      "Epoch 98/100\n",
      "11412/11412 [==============================] - 1s 82us/step - loss: 0.3106\n",
      "Epoch 99/100\n",
      "11412/11412 [==============================] - 1s 90us/step - loss: 0.3099: 0s - loss: 0.30 - ETA: 0s -\n",
      "Epoch 100/100\n",
      "11412/11412 [==============================] - 1s 88us/step - loss: 0.3099: 0s - loss: 0.30\n"
     ]
    }
   ],
   "source": [
    "history = model.fit(x_train, y_train, epochs=100, batch_size=16, verbose=1)"
   ]
  },
  {
   "cell_type": "code",
   "execution_count": 65,
   "metadata": {},
   "outputs": [
    {
     "data": {
      "image/png": "[encoded data removed]",
      "text/plain": [
       "<Figure size 936x576 with 1 Axes>"
      ]
     },
     "metadata": {
      "needs_background": "light"
     },
     "output_type": "display_data"
    }
   ],
   "source": [
    "def plot_history(history, figsize=(13, 8), color='purple', s=50, alpha=0.5):\n",
    "    plt.figure(figsize=figsize)\n",
    "    plt.grid(zorder=0, linestyle='--')\n",
    "    plt.scatter(history.epoch, history.history[\"loss\"], c=color, s=s, alpha=alpha)\n",
    "    plt.xlabel(\"epochs\")\n",
    "    plt.ylabel(\"loss\")\n",
    "    plt.show()\n",
    "    \n",
    "    \n",
    "plot_history(history)"
   ]
  },
  {
   "cell_type": "code",
   "execution_count": 71,
   "metadata": {},
   "outputs": [
    {
     "name": "stdout",
     "output_type": "stream",
     "text": [
      "_________________________________________________________________\n",
      "Layer (type)                 Output Shape              Param #   \n",
      "=================================================================\n",
      "dense_27 (Dense)             (None, 4)                 44        \n",
      "_________________________________________________________________\n",
      "dense_28 (Dense)             (None, 16)                80        \n",
      "_________________________________________________________________\n",
      "dense_29 (Dense)             (None, 2)                 34        \n",
      "=================================================================\n",
      "Total params: 158\n",
      "Trainable params: 158\n",
      "Non-trainable params: 0\n",
      "_________________________________________________________________\n"
     ]
    }
   ],
   "source": [
    "### Let's build a new model and add another layer\n",
    "model_mlp = Sequential()\n",
    "\n",
    "model_mlp.add(Dense(input_dim=10, units=4, activation='relu'))\n",
    "model_mlp.add(Dense(units=16, activation='relu'))\n",
    "model_mlp.add(Dense(units=2, activation='softmax'))\n",
    "\n",
    "# Relu is used to solve the vanishing gradient that is introduced by sigmoid functions\n",
    "# Leaky Relu allows weights with negative parameters to update slowly\n",
    "\n",
    "\n",
    "# Last layer classifiers usually use 'softmax' if ydim > 1 or 'sigmoid' if ydim == 1\n",
    "\n",
    "model_mlp.summary()"
   ]
  },
  {
   "cell_type": "code",
   "execution_count": 72,
   "metadata": {},
   "outputs": [
    {
     "data": {
      "text/plain": [
       "<matplotlib.collections.PathCollection at 0x1a31f29b00>"
      ]
     },
     "execution_count": 72,
     "metadata": {},
     "output_type": "execute_result"
    },
    {
     "data": {
      "image/png": "[encoded data removed]",
      "text/plain": [
       "<Figure size 432x288 with 1 Axes>"
      ]
     },
     "metadata": {
      "needs_background": "light"
     },
     "output_type": "display_data"
    }
   ],
   "source": [
    "model_mlp.compile(loss=keras.losses.categorical_crossentropy, \n",
    "              optimizer=optimizers.SGD(lr=0.001, momentum=0.9, nesterov=True))\n",
    "\n",
    "history = model_mlp.fit(x_train, y_train, epochs=100, batch_size=16, verbose=0)\n",
    "plt.scatter(history.epoch, history.history[\"loss\"])"
   ]
  },
  {
   "cell_type": "markdown",
   "metadata": {},
   "source": [
    "### Let's try and tune our optimizer"
   ]
  },
  {
   "cell_type": "code",
   "execution_count": 112,
   "metadata": {},
   "outputs": [],
   "source": [
    "optimizer_dict = {\"adam_12\": {\"optimizer\": optimizers.Adam(lr=0.01, epsilon=0.2, amsgrad=True), \"color\": \"blue\"}}\n",
    "#                  \"adam_01\": {\"optimizer\": optimizers.Adam(lr=0.01), \"color\": \"orange\"}}\n",
    "#                   \"sgd_nag\": {\"optimizer\": optimizers.SGD(lr=0.01, momentum=0.9, nesterov=True), \"color\": \"pink\"},\n",
    "#                   \"sgd\": {\"optimizer\": optimizers.SGD(lr=0.01), \"color\": \"red\"},\n",
    "#                   \"adagrad\": {\"optimizer\": optimizers.Adagrad(), \"color\": \"yellow\"},\n",
    "#                   \"adadelta\": {\"optimizer\": optimizers.Adadelta(), \"color\": \"teal\"}}\n",
    "\n"
   ]
  },
  {
   "cell_type": "code",
   "execution_count": 113,
   "metadata": {},
   "outputs": [
    {
     "name": "stdout",
     "output_type": "stream",
     "text": [
      "Epoch 1/30\n",
      "11412/11412 [==============================] - 3s 279us/step - loss: 0.5104 - acc: 0.7653 0s - loss: 0.5167 - acc: 0.76\n",
      "Epoch 2/30\n",
      "11412/11412 [==============================] - 2s 143us/step - loss: 0.3824 - acc: 0.8343\n",
      "Epoch 3/30\n",
      "11412/11412 [==============================] - 2s 136us/step - loss: 0.3620 - acc: 0.8516\n",
      "Epoch 4/30\n",
      "11412/11412 [==============================] - 2s 147us/step - loss: 0.3504 - acc: 0.8562 0s - loss: 0.3469 - a\n",
      "Epoch 5/30\n",
      "11412/11412 [==============================] - 2s 146us/step - loss: 0.3436 - acc: 0.8616\n",
      "Epoch 6/30\n",
      "11412/11412 [==============================] - 2s 139us/step - loss: 0.3385 - acc: 0.8632\n",
      "Epoch 7/30\n",
      "11412/11412 [==============================] - 2s 144us/step - loss: 0.3346 - acc: 0.8634\n",
      "Epoch 8/30\n",
      "11412/11412 [==============================] - 2s 142us/step - loss: 0.3311 - acc: 0.8644 0s - loss: 0.3296 - acc:  - ETA: 0s - loss: 0.3302 - acc: 0.8\n",
      "Epoch 9/30\n",
      "11412/11412 [==============================] - 2s 140us/step - loss: 0.3298 - acc: 0.8658\n",
      "Epoch 10/30\n",
      "11412/11412 [==============================] - 2s 145us/step - loss: 0.3268 - acc: 0.8661 0s - loss: 0.3250 - acc: 0.\n",
      "Epoch 11/30\n",
      "11412/11412 [==============================] - 2s 145us/step - loss: 0.3253 - acc: 0.8652 0s - loss: 0.3276 - acc: 0.86 - ETA: 0s - loss: 0.3256 - acc: 0.865\n",
      "Epoch 12/30\n",
      "11412/11412 [==============================] - 2s 155us/step - loss: 0.3242 - acc: 0.8672 1s - lo\n",
      "Epoch 13/30\n",
      "11412/11412 [==============================] - 2s 158us/step - loss: 0.3224 - acc: 0.8681\n",
      "Epoch 14/30\n",
      "11412/11412 [==============================] - 2s 147us/step - loss: 0.3232 - acc: 0.8674\n",
      "Epoch 15/30\n",
      "11412/11412 [==============================] - 2s 143us/step - loss: 0.3212 - acc: 0.8687\n",
      "Epoch 16/30\n",
      "11412/11412 [==============================] - 1s 125us/step - loss: 0.3216 - acc: 0.8681 0s - loss: 0.3240 - acc: \n",
      "Epoch 17/30\n",
      "11412/11412 [==============================] - 1s 119us/step - loss: 0.3201 - acc: 0.8690\n",
      "Epoch 18/30\n",
      "11412/11412 [==============================] - 2s 161us/step - loss: 0.3197 - acc: 0.8699\n",
      "Epoch 19/30\n",
      "11412/11412 [==============================] - 2s 165us/step - loss: 0.3192 - acc: 0.8701\n",
      "Epoch 20/30\n",
      "11412/11412 [==============================] - 2s 172us/step - loss: 0.3186 - acc: 0.8697 1s - loss\n",
      "Epoch 21/30\n",
      "11412/11412 [==============================] - 2s 132us/step - loss: 0.3172 - acc: 0.8718\n",
      "Epoch 22/30\n",
      "11412/11412 [==============================] - 2s 152us/step - loss: 0.3174 - acc: 0.8689\n",
      "Epoch 23/30\n",
      "11412/11412 [==============================] - 2s 165us/step - loss: 0.3161 - acc: 0.8698\n",
      "Epoch 24/30\n",
      "11412/11412 [==============================] - 2s 136us/step - loss: 0.3161 - acc: 0.8710\n",
      "Epoch 25/30\n",
      "11412/11412 [==============================] - 2s 140us/step - loss: 0.3149 - acc: 0.8707\n",
      "Epoch 26/30\n",
      "11412/11412 [==============================] - 2s 155us/step - loss: 0.3137 - acc: 0.8703 0s - loss: 0.3164\n",
      "Epoch 27/30\n",
      "11412/11412 [==============================] - 2s 148us/step - loss: 0.3138 - acc: 0.8715\n",
      "Epoch 28/30\n",
      "11412/11412 [==============================] - 2s 148us/step - loss: 0.3131 - acc: 0.8716\n",
      "Epoch 29/30\n",
      "11412/11412 [==============================] - 2s 147us/step - loss: 0.3134 - acc: 0.8721\n",
      "Epoch 30/30\n",
      "11412/11412 [==============================] - 2s 159us/step - loss: 0.3134 - acc: 0.8730 1s - lo\n",
      "Finished fitting adam_12 optimizer\n"
     ]
    }
   ],
   "source": [
    "for label, optimizer in optimizer_dict.items():\n",
    "    # Build Model\n",
    "    model = Sequential()\n",
    "    model.add(Dense(units=10, activation='relu', input_dim=10))\n",
    "    model.add(Dense(units=2, activation='softmax'))\n",
    "    \n",
    "    # compile model\n",
    "    model.compile(loss=keras.losses.categorical_crossentropy, optimizer=optimizer['optimizer'], metrics=['accuracy'])\n",
    "    \n",
    "    # train our model and get our history\n",
    "    history = model.fit(x_train, y_train, epochs=30, batch_size=16, verbose=1)\n",
    "    \n",
    "    # store history to our dictionary\n",
    "    optimizer_dict[label]['history'] = history\n",
    "    print(f\"Finished fitting {label} optimizer\")"
   ]
  },
  {
   "cell_type": "code",
   "execution_count": 114,
   "metadata": {},
   "outputs": [
    {
     "name": "stdout",
     "output_type": "stream",
     "text": [
      "adam_12 0.31343910266778113\n"
     ]
    },
    {
     "data": {
      "image/png": "[encoded data removed]",
      "text/plain": [
       "<Figure size 1440x720 with 1 Axes>"
      ]
     },
     "metadata": {
      "needs_background": "light"
     },
     "output_type": "display_data"
    }
   ],
   "source": [
    "plt.figure(figsize=(20, 10))\n",
    "for label, optdict in optimizer_dict.items():\n",
    "    history = optdict['history']\n",
    "    color = optdict[\"color\"]\n",
    "    plt.plot(history.epoch, history.history[\"loss\"], alpha=0.8, color=color, label=label, linewidth=5)\n",
    "    print(label, history.history[\"loss\"][-1])\n",
    "plt.legend()\n",
    "plt.title(\"Loss vs Epoch\\nFor Various Optimizers\")\n",
    "plt.show()"
   ]
  },
  {
   "cell_type": "code",
   "execution_count": 115,
   "metadata": {},
   "outputs": [
    {
     "name": "stdout",
     "output_type": "stream",
     "text": [
      "adam_12 0.8730283911671924\n"
     ]
    },
    {
     "data": {
      "image/png": "[encoded data removed]",
      "text/plain": [
       "<Figure size 1440x720 with 1 Axes>"
      ]
     },
     "metadata": {
      "needs_background": "light"
     },
     "output_type": "display_data"
    }
   ],
   "source": [
    "plt.figure(figsize=(20, 10))\n",
    "for label, optdict in optimizer_dict.items():\n",
    "    history = optdict['history']\n",
    "    color = optdict[\"color\"]\n",
    "    plt.plot(history.epoch, history.history[\"acc\"], alpha=0.8, color=color, label=label, linewidth=5)\n",
    "    print(label, history.history[\"acc\"][-1])\n",
    "plt.legend()\n",
    "\n",
    "plt.title(\"Accuracy vs Epoch\\nFor Various Optimizers\")\n",
    "plt.show()"
   ]
  },
  {
   "cell_type": "code",
   "execution_count": 8,
   "metadata": {
    "ExecuteTime": {
     "end_time": "2019-06-18T19:31:59.446967Z",
     "start_time": "2019-06-18T19:31:59.444674Z"
    },
    "scrolled": false
   },
   "outputs": [],
   "source": [
    "# alternatively could have specified a specific batch to train on\n",
    "# model.train_on_batch(x_batch, y_batch)"
   ]
  },
  {
   "cell_type": "markdown",
   "metadata": {},
   "source": [
    "# Evaluating the Trained Model"
   ]
  },
  {
   "cell_type": "markdown",
   "metadata": {},
   "source": [
    "We can look at the overall loss from our test data after training the model was trained"
   ]
  },
  {
   "cell_type": "code",
   "execution_count": 18,
   "metadata": {
    "ExecuteTime": {
     "end_time": "2019-06-18T16:18:23.607022Z",
     "start_time": "2019-06-18T16:18:23.453388Z"
    }
   },
   "outputs": [
    {
     "name": "stdout",
     "output_type": "stream",
     "text": [
      "60/60 [==============================] - 0s 38us/step\n"
     ]
    },
    {
     "data": {
      "text/plain": [
       "0.12374646763006845"
      ]
     },
     "execution_count": 18,
     "metadata": {},
     "output_type": "execute_result"
    }
   ],
   "source": [
    "# Could also just use a batch to evaluate\n",
    "# loss_and_metrics = model.evaluate(x_test, y_test, batch_size=16)\n",
    "loss_and_metrics = model.evaluate(x_test, y_test)\n",
    "\n",
    "loss_and_metrics"
   ]
  },
  {
   "cell_type": "markdown",
   "metadata": {},
   "source": [
    "We can have predictions (probability the data point is a particular class based on our trained model)"
   ]
  },
  {
   "cell_type": "code",
   "execution_count": 20,
   "metadata": {
    "ExecuteTime": {
     "end_time": "2019-06-18T16:18:23.701142Z",
     "start_time": "2019-06-18T16:18:23.613540Z"
    },
    "scrolled": true
   },
   "outputs": [
    {
     "data": {
      "text/plain": [
       "array([[9.83704627e-01, 1.57465991e-02, 5.48841897e-04],\n",
       "       [9.88414645e-01, 1.13545572e-02, 2.30795253e-04],\n",
       "       [4.83600445e-07, 2.06313543e-02, 9.79368210e-01],\n",
       "       [9.77884471e-01, 2.18411200e-02, 2.74449092e-04],\n",
       "       [9.82576132e-01, 1.67746786e-02, 6.49187947e-04],\n",
       "       [2.56978660e-06, 3.25491428e-01, 6.74505949e-01],\n",
       "       [9.41820860e-01, 5.75792976e-02, 5.99891879e-04],\n",
       "       [5.99075367e-09, 2.19367836e-02, 9.78063285e-01],\n",
       "       [3.57025236e-08, 3.38154845e-03, 9.96618390e-01],\n",
       "       [9.73767519e-01, 2.58436427e-02, 3.88930697e-04],\n",
       "       [9.68435526e-01, 2.88138203e-02, 2.75061140e-03],\n",
       "       [9.88783300e-01, 1.10043641e-02, 2.12443832e-04],\n",
       "       [9.83923614e-01, 1.55458329e-02, 5.30468358e-04],\n",
       "       [9.51825023e-01, 4.10227664e-02, 7.15221046e-03],\n",
       "       [9.16416869e-02, 8.26131165e-01, 8.22270438e-02],\n",
       "       [6.93665788e-05, 8.83402765e-01, 1.16527863e-01],\n",
       "       [5.03755331e-01, 4.96100485e-01, 1.44240723e-04],\n",
       "       [9.63902846e-03, 9.85324323e-01, 5.03661809e-03],\n",
       "       [4.42761348e-08, 2.06623125e-04, 9.99793351e-01],\n",
       "       [9.45369771e-04, 9.95404840e-01, 3.64982267e-03],\n",
       "       [5.08855992e-05, 4.53404278e-01, 5.46544850e-01],\n",
       "       [5.77050145e-04, 9.90393937e-01, 9.02898517e-03],\n",
       "       [1.17089712e-06, 2.21152790e-03, 9.97787237e-01],\n",
       "       [2.60339980e-03, 9.92124498e-01, 5.27219381e-03],\n",
       "       [4.44414127e-06, 9.85383391e-01, 1.46121578e-02],\n",
       "       [9.86478984e-01, 1.31786345e-02, 3.42352490e-04],\n",
       "       [9.86567080e-01, 1.30962031e-02, 3.36710451e-04],\n",
       "       [1.87942089e-04, 2.39982039e-01, 7.59829998e-01],\n",
       "       [9.64377403e-01, 3.19808982e-02, 3.64163797e-03],\n",
       "       [1.99199667e-06, 6.88752457e-02, 9.31122780e-01],\n",
       "       [2.14602624e-05, 2.13463008e-01, 7.86515534e-01],\n",
       "       [9.76764619e-01, 2.19133589e-02, 1.32204627e-03],\n",
       "       [3.34405862e-02, 9.62525070e-01, 4.03436972e-03],\n",
       "       [5.50731386e-07, 1.69824599e-03, 9.98301208e-01],\n",
       "       [2.78390720e-02, 9.16741252e-01, 5.54197282e-02],\n",
       "       [9.39636827e-01, 4.88262288e-02, 1.15369605e-02],\n",
       "       [1.22564154e-08, 1.33790495e-03, 9.98662114e-01],\n",
       "       [2.13331240e-03, 9.60410118e-01, 3.74566205e-02],\n",
       "       [1.73169523e-04, 9.95753884e-01, 4.07299818e-03],\n",
       "       [1.86750242e-07, 3.37167294e-03, 9.96628106e-01],\n",
       "       [1.20801851e-03, 9.17537749e-01, 8.12542662e-02],\n",
       "       [1.23814191e-03, 9.90663409e-01, 8.09848867e-03],\n",
       "       [4.45241781e-08, 7.42364558e-04, 9.99257624e-01],\n",
       "       [5.97350858e-03, 9.93600011e-01, 4.26537648e-04],\n",
       "       [9.82691228e-01, 1.66702271e-02, 6.38506957e-04],\n",
       "       [1.18142971e-05, 7.10111022e-01, 2.89877146e-01],\n",
       "       [9.77939188e-01, 2.08961889e-02, 1.16467592e-03],\n",
       "       [1.04701181e-03, 9.81998801e-01, 1.69542022e-02],\n",
       "       [9.77192461e-01, 2.15441249e-02, 1.26346026e-03],\n",
       "       [9.75659370e-01, 2.28605364e-02, 1.48010976e-03],\n",
       "       [9.70673740e-01, 2.70130765e-02, 2.31322739e-03],\n",
       "       [1.31547637e-03, 6.75969779e-01, 3.22714716e-01],\n",
       "       [1.40663687e-05, 2.46956781e-03, 9.97516394e-01],\n",
       "       [7.64302058e-06, 2.17228495e-02, 9.78269458e-01],\n",
       "       [9.74816382e-01, 2.35764440e-02, 1.60717429e-03],\n",
       "       [1.88936902e-08, 4.31532331e-04, 9.99568403e-01],\n",
       "       [1.78247990e-06, 6.69356261e-04, 9.99328852e-01],\n",
       "       [3.33779865e-10, 1.01982080e-03, 9.98980105e-01],\n",
       "       [1.18763933e-06, 7.26437569e-01, 2.73561269e-01],\n",
       "       [9.91783619e-01, 8.12119246e-03, 9.52133851e-05]], dtype=float32)"
      ]
     },
     "execution_count": 20,
     "metadata": {},
     "output_type": "execute_result"
    }
   ],
   "source": [
    "probs = model.predict(x_test)\n",
    "probs"
   ]
  },
  {
   "cell_type": "code",
   "execution_count": null,
   "metadata": {},
   "outputs": [],
   "source": []
  },
  {
   "cell_type": "markdown",
   "metadata": {},
   "source": [
    "We want to say what is the predicted class, so we pick just the largest probability for each result"
   ]
  },
  {
   "cell_type": "code",
   "execution_count": 11,
   "metadata": {
    "ExecuteTime": {
     "end_time": "2019-06-18T16:18:23.706830Z",
     "start_time": "2019-06-18T16:18:23.703922Z"
    }
   },
   "outputs": [
    {
     "data": {
      "text/plain": [
       "array([0, 0, 2, 0, 0, 2, 0, 2, 2, 0, 0, 0, 0, 0, 1, 1, 1, 1, 2, 1, 2, 1,\n",
       "       2, 1, 1, 0, 0, 2, 0, 2, 2, 0, 1, 2, 1, 0, 2, 1, 1, 2, 1, 1, 2, 1,\n",
       "       0, 1, 0, 1, 0, 0, 0, 1, 2, 2, 0, 2, 2, 2, 1, 0])"
      ]
     },
     "execution_count": 11,
     "metadata": {},
     "output_type": "execute_result"
    }
   ],
   "source": [
    "predictions = np.argmax(classes, axis=1)\n",
    "\n",
    "predictions"
   ]
  },
  {
   "cell_type": "markdown",
   "metadata": {},
   "source": [
    "Finally, we can see how accurate our model was by seeing if the predicted classes match the actual labels. Note that this is calculated differently from how the loss is calculated."
   ]
  },
  {
   "cell_type": "code",
   "execution_count": 12,
   "metadata": {
    "ExecuteTime": {
     "end_time": "2019-06-18T16:18:23.715400Z",
     "start_time": "2019-06-18T16:18:23.708557Z"
    }
   },
   "outputs": [
    {
     "data": {
      "text/plain": [
       "array([0.91666667])"
      ]
     },
     "execution_count": 12,
     "metadata": {},
     "output_type": "execute_result"
    }
   ],
   "source": [
    "np.sum(predictions  == np.argmax(y_test, axis=1)) / predictions.shape"
   ]
  },
  {
   "cell_type": "markdown",
   "metadata": {},
   "source": [
    "### But Behold!!!! An out of the box RFC comes into the fold! "
   ]
  },
  {
   "cell_type": "code",
   "execution_count": 13,
   "metadata": {},
   "outputs": [],
   "source": [
    "from sklearn.ensemble import RandomForestClassifier"
   ]
  },
  {
   "cell_type": "code",
   "execution_count": 14,
   "metadata": {},
   "outputs": [],
   "source": [
    "clf = RandomForestClassifier()"
   ]
  },
  {
   "cell_type": "code",
   "execution_count": 15,
   "metadata": {},
   "outputs": [
    {
     "name": "stderr",
     "output_type": "stream",
     "text": [
      "/anaconda3/lib/python3.7/site-packages/sklearn/ensemble/forest.py:245: FutureWarning: The default value of n_estimators will change from 10 in version 0.20 to 100 in 0.22.\n",
      "  \"10 in version 0.20 to 100 in 0.22.\", FutureWarning)\n"
     ]
    },
    {
     "data": {
      "text/plain": [
       "RandomForestClassifier(bootstrap=True, class_weight=None, criterion='gini',\n",
       "                       max_depth=None, max_features='auto', max_leaf_nodes=None,\n",
       "                       min_impurity_decrease=0.0, min_impurity_split=None,\n",
       "                       min_samples_leaf=1, min_samples_split=2,\n",
       "                       min_weight_fraction_leaf=0.0, n_estimators=10,\n",
       "                       n_jobs=None, oob_score=False, random_state=None,\n",
       "                       verbose=0, warm_start=False)"
      ]
     },
     "execution_count": 15,
     "metadata": {},
     "output_type": "execute_result"
    }
   ],
   "source": [
    "clf.fit(x_train, y_train)"
   ]
  },
  {
   "cell_type": "code",
   "execution_count": 16,
   "metadata": {},
   "outputs": [
    {
     "data": {
      "text/plain": [
       "0.9166666666666666"
      ]
     },
     "execution_count": 16,
     "metadata": {},
     "output_type": "execute_result"
    }
   ],
   "source": [
    "clf.score(x_test, y_test)"
   ]
  },
  {
   "cell_type": "code",
   "execution_count": null,
   "metadata": {},
   "outputs": [],
   "source": []
  }
 ],
 "metadata": {
  "kernelspec": {
   "display_name": "Python 3",
   "language": "python",
   "name": "python3"
  },
  "language_info": {
   "codemirror_mode": {
    "name": "ipython",
    "version": 3
   },
   "file_extension": ".py",
   "mimetype": "text/x-python",
   "name": "python",
   "nbconvert_exporter": "python",
   "pygments_lexer": "ipython3",
   "version": "3.7.3"
  },
  "toc": {
   "base_numbering": 1,
   "nav_menu": {},
   "number_sections": true,
   "sideBar": true,
   "skip_h1_title": false,
   "title_cell": "Table of Contents",
   "title_sidebar": "Contents",
   "toc_cell": false,
   "toc_position": {},
   "toc_section_display": true,
   "toc_window_display": false
  },
  "varInspector": {
   "cols": {
    "lenName": 16,
    "lenType": 16,
    "lenVar": 40
   },
   "kernels_config": {
    "python": {
     "delete_cmd_postfix": "",
     "delete_cmd_prefix": "del ",
     "library": "var_list.py",
     "varRefreshCmd": "print(var_dic_list())"
    },
    "r": {
     "delete_cmd_postfix": ") ",
     "delete_cmd_prefix": "rm(",
     "library": "var_list.r",
     "varRefreshCmd": "cat(var_dic_list()) "
    }
   },
   "types_to_exclude": [
    "module",
    "function",
    "builtin_function_or_method",
    "instance",
    "_Feature"
   ],
   "window_display": false
  }
 },
 "nbformat": 4,
 "nbformat_minor": 2
}
