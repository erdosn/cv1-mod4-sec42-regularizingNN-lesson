{
 "cells": [
  {
   "cell_type": "markdown",
   "metadata": {},
   "source": [
    "Most of this code can be found at <a href='https://keras.io'>keras.io</a>"
   ]
  },
  {
   "cell_type": "markdown",
   "metadata": {},
   "source": [
    "# Useful Inputs"
   ]
  },
  {
   "cell_type": "code",
   "execution_count": 8,
   "metadata": {
    "ExecuteTime": {
     "end_time": "2019-06-18T16:18:12.782645Z",
     "start_time": "2019-06-18T16:18:11.185732Z"
    }
   },
   "outputs": [],
   "source": [
    "import keras\n",
    "import numpy as np\n",
    "import pandas as pd\n",
    "\n",
    "import matplotlib.pyplot as plt"
   ]
  },
  {
   "cell_type": "code",
   "execution_count": 4,
   "metadata": {
    "ExecuteTime": {
     "end_time": "2019-06-18T16:18:13.087187Z",
     "start_time": "2019-06-18T16:18:13.082385Z"
    }
   },
   "outputs": [],
   "source": [
    "from keras import models\n",
    "from keras import layers\n",
    "from keras import optimizers"
   ]
  },
  {
   "cell_type": "markdown",
   "metadata": {},
   "source": [
    "# Obtaining Dataset & Train-Test Split"
   ]
  },
  {
   "cell_type": "markdown",
   "metadata": {},
   "source": [
    "Nothing different from training other models"
   ]
  },
  {
   "cell_type": "code",
   "execution_count": 6,
   "metadata": {
    "ExecuteTime": {
     "end_time": "2019-06-18T16:18:13.048684Z",
     "start_time": "2019-06-18T16:18:12.784941Z"
    }
   },
   "outputs": [
    {
     "name": "stderr",
     "output_type": "stream",
     "text": [
      "/anaconda3/lib/python3.7/site-packages/sklearn/preprocessing/_encoders.py:415: FutureWarning: The handling of integer data will change in version 0.22. Currently, the categories are determined based on the range [0, max(values)], while in the future they will be determined based on the unique values.\n",
      "If you want the future behaviour and silence this warning, you can specify \"categories='auto'\".\n",
      "In case you used a LabelEncoder before this OneHotEncoder to convert the categories to integers, then you can now use the OneHotEncoder directly.\n",
      "  warnings.warn(msg, FutureWarning)\n"
     ]
    }
   ],
   "source": [
    "from sklearn.datasets import load_iris\n",
    "from sklearn.model_selection import train_test_split\n",
    "from sklearn.preprocessing import OneHotEncoder, StandardScaler\n",
    "\n",
    "iris = load_iris()\n",
    "x = iris['data']\n",
    "y = iris['target']\n",
    "names = iris['target_names']\n",
    "feature_names = iris['feature_names']\n",
    "\n",
    "# One hot encoding\n",
    "enc = OneHotEncoder()\n",
    "y = enc.fit_transform(y[:, np.newaxis]).toarray()\n",
    "\n",
    "# Scale data to have mean 0 and variance 1 \n",
    "# which is importance for convergence of the neural network\n",
    "scaler = StandardScaler()\n",
    "x_scaled = scaler.fit_transform(x)\n",
    "\n",
    "# Split the data set into training and testing\n",
    "x_train, x_test, y_train, y_test = train_test_split(x_scaled, y, test_size=0.4, random_state=2)"
   ]
  },
  {
   "cell_type": "code",
   "execution_count": 12,
   "metadata": {},
   "outputs": [
    {
     "data": {
      "text/html": [
       "<div>\n",
       "<style scoped>\n",
       "    .dataframe tbody tr th:only-of-type {\n",
       "        vertical-align: middle;\n",
       "    }\n",
       "\n",
       "    .dataframe tbody tr th {\n",
       "        vertical-align: top;\n",
       "    }\n",
       "\n",
       "    .dataframe thead th {\n",
       "        text-align: right;\n",
       "    }\n",
       "</style>\n",
       "<table border=\"1\" class=\"dataframe\">\n",
       "  <thead>\n",
       "    <tr style=\"text-align: right;\">\n",
       "      <th></th>\n",
       "      <th>fLength:</th>\n",
       "      <th>fWidth:</th>\n",
       "      <th>fSize:</th>\n",
       "      <th>fConc:</th>\n",
       "      <th>fConc1:</th>\n",
       "      <th>fAsym:</th>\n",
       "      <th>fM3Long:</th>\n",
       "      <th>fM3Trans:</th>\n",
       "      <th>fAlpha:</th>\n",
       "      <th>fDist:</th>\n",
       "      <th>class:</th>\n",
       "    </tr>\n",
       "  </thead>\n",
       "  <tbody>\n",
       "    <tr>\n",
       "      <th>0</th>\n",
       "      <td>28.7967</td>\n",
       "      <td>16.0021</td>\n",
       "      <td>2.6449</td>\n",
       "      <td>0.3918</td>\n",
       "      <td>0.1982</td>\n",
       "      <td>27.7004</td>\n",
       "      <td>22.0110</td>\n",
       "      <td>-8.2027</td>\n",
       "      <td>40.0920</td>\n",
       "      <td>81.8828</td>\n",
       "      <td>g</td>\n",
       "    </tr>\n",
       "    <tr>\n",
       "      <th>1</th>\n",
       "      <td>31.6036</td>\n",
       "      <td>11.7235</td>\n",
       "      <td>2.5185</td>\n",
       "      <td>0.5303</td>\n",
       "      <td>0.3773</td>\n",
       "      <td>26.2722</td>\n",
       "      <td>23.8238</td>\n",
       "      <td>-9.9574</td>\n",
       "      <td>6.3609</td>\n",
       "      <td>205.2610</td>\n",
       "      <td>g</td>\n",
       "    </tr>\n",
       "  </tbody>\n",
       "</table>\n",
       "</div>"
      ],
      "text/plain": [
       "   fLength:  fWidth:  fSize:  fConc:  fConc1:   fAsym:  fM3Long:  fM3Trans:  \\\n",
       "0   28.7967  16.0021  2.6449  0.3918   0.1982  27.7004   22.0110    -8.2027   \n",
       "1   31.6036  11.7235  2.5185  0.5303   0.3773  26.2722   23.8238    -9.9574   \n",
       "\n",
       "   fAlpha:    fDist: class:  \n",
       "0  40.0920   81.8828      g  \n",
       "1   6.3609  205.2610      g  "
      ]
     },
     "execution_count": 12,
     "metadata": {},
     "output_type": "execute_result"
    }
   ],
   "source": [
    "df = pd.read_csv(\"MagicTelescope.csv\")\n",
    "columns = [c.replace(\":\", \"\") for c in df.columns]\n",
    "df.drop(\"ID\", axis=1, inplace=True)\n",
    "df.head(2)"
   ]
  },
  {
   "cell_type": "code",
   "execution_count": 14,
   "metadata": {},
   "outputs": [
    {
     "ename": "TypeError",
     "evalue": "'list' object is not callable",
     "output_type": "error",
     "traceback": [
      "\u001b[0;31m-------------------------------------------------------------------------\u001b[0m",
      "\u001b[0;31mTypeError\u001b[0m                               Traceback (most recent call last)",
      "\u001b[0;32m<ipython-input-14-469bf27fbf2e>\u001b[0m in \u001b[0;36m<module>\u001b[0;34m\u001b[0m\n\u001b[0;32m----> 1\u001b[0;31m \u001b[0mdf\u001b[0m\u001b[0;34m.\u001b[0m\u001b[0mrename\u001b[0m\u001b[0;34m(\u001b[0m\u001b[0mcolumns\u001b[0m\u001b[0;34m,\u001b[0m \u001b[0maxis\u001b[0m\u001b[0;34m=\u001b[0m\u001b[0;34m'columns'\u001b[0m\u001b[0;34m)\u001b[0m\u001b[0;34m\u001b[0m\u001b[0;34m\u001b[0m\u001b[0m\n\u001b[0m",
      "\u001b[0;32m/anaconda3/lib/python3.7/site-packages/pandas/util/_decorators.py\u001b[0m in \u001b[0;36mwrapper\u001b[0;34m(*args, **kwargs)\u001b[0m\n\u001b[1;32m    195\u001b[0m         \u001b[0;34m@\u001b[0m\u001b[0mwraps\u001b[0m\u001b[0;34m(\u001b[0m\u001b[0mfunc\u001b[0m\u001b[0;34m)\u001b[0m\u001b[0;34m\u001b[0m\u001b[0;34m\u001b[0m\u001b[0m\n\u001b[1;32m    196\u001b[0m         \u001b[0;32mdef\u001b[0m \u001b[0mwrapper\u001b[0m\u001b[0;34m(\u001b[0m\u001b[0;34m*\u001b[0m\u001b[0margs\u001b[0m\u001b[0;34m,\u001b[0m \u001b[0;34m**\u001b[0m\u001b[0mkwargs\u001b[0m\u001b[0;34m)\u001b[0m\u001b[0;34m:\u001b[0m\u001b[0;34m\u001b[0m\u001b[0;34m\u001b[0m\u001b[0m\n\u001b[0;32m--> 197\u001b[0;31m             \u001b[0;32mreturn\u001b[0m \u001b[0mfunc\u001b[0m\u001b[0;34m(\u001b[0m\u001b[0;34m*\u001b[0m\u001b[0margs\u001b[0m\u001b[0;34m,\u001b[0m \u001b[0;34m**\u001b[0m\u001b[0mkwargs\u001b[0m\u001b[0;34m)\u001b[0m\u001b[0;34m\u001b[0m\u001b[0;34m\u001b[0m\u001b[0m\n\u001b[0m\u001b[1;32m    198\u001b[0m \u001b[0;34m\u001b[0m\u001b[0m\n\u001b[1;32m    199\u001b[0m         \u001b[0;32mif\u001b[0m \u001b[0;32mnot\u001b[0m \u001b[0mPY2\u001b[0m\u001b[0;34m:\u001b[0m\u001b[0;34m\u001b[0m\u001b[0;34m\u001b[0m\u001b[0m\n",
      "\u001b[0;32m/anaconda3/lib/python3.7/site-packages/pandas/core/frame.py\u001b[0m in \u001b[0;36mrename\u001b[0;34m(self, *args, **kwargs)\u001b[0m\n\u001b[1;32m   4023\u001b[0m         \u001b[0mkwargs\u001b[0m\u001b[0;34m.\u001b[0m\u001b[0mpop\u001b[0m\u001b[0;34m(\u001b[0m\u001b[0;34m'axis'\u001b[0m\u001b[0;34m,\u001b[0m \u001b[0;32mNone\u001b[0m\u001b[0;34m)\u001b[0m\u001b[0;34m\u001b[0m\u001b[0;34m\u001b[0m\u001b[0m\n\u001b[1;32m   4024\u001b[0m         \u001b[0mkwargs\u001b[0m\u001b[0;34m.\u001b[0m\u001b[0mpop\u001b[0m\u001b[0;34m(\u001b[0m\u001b[0;34m'mapper'\u001b[0m\u001b[0;34m,\u001b[0m \u001b[0;32mNone\u001b[0m\u001b[0;34m)\u001b[0m\u001b[0;34m\u001b[0m\u001b[0;34m\u001b[0m\u001b[0m\n\u001b[0;32m-> 4025\u001b[0;31m         \u001b[0;32mreturn\u001b[0m \u001b[0msuper\u001b[0m\u001b[0;34m(\u001b[0m\u001b[0mDataFrame\u001b[0m\u001b[0;34m,\u001b[0m \u001b[0mself\u001b[0m\u001b[0;34m)\u001b[0m\u001b[0;34m.\u001b[0m\u001b[0mrename\u001b[0m\u001b[0;34m(\u001b[0m\u001b[0;34m**\u001b[0m\u001b[0mkwargs\u001b[0m\u001b[0;34m)\u001b[0m\u001b[0;34m\u001b[0m\u001b[0;34m\u001b[0m\u001b[0m\n\u001b[0m\u001b[1;32m   4026\u001b[0m \u001b[0;34m\u001b[0m\u001b[0m\n\u001b[1;32m   4027\u001b[0m     \u001b[0;34m@\u001b[0m\u001b[0mSubstitution\u001b[0m\u001b[0;34m(\u001b[0m\u001b[0;34m**\u001b[0m\u001b[0m_shared_doc_kwargs\u001b[0m\u001b[0;34m)\u001b[0m\u001b[0;34m\u001b[0m\u001b[0;34m\u001b[0m\u001b[0m\n",
      "\u001b[0;32m/anaconda3/lib/python3.7/site-packages/pandas/core/generic.py\u001b[0m in \u001b[0;36mrename\u001b[0;34m(self, *args, **kwargs)\u001b[0m\n\u001b[1;32m   1089\u001b[0m                 \u001b[0mlevel\u001b[0m \u001b[0;34m=\u001b[0m \u001b[0mself\u001b[0m\u001b[0;34m.\u001b[0m\u001b[0maxes\u001b[0m\u001b[0;34m[\u001b[0m\u001b[0maxis\u001b[0m\u001b[0;34m]\u001b[0m\u001b[0;34m.\u001b[0m\u001b[0m_get_level_number\u001b[0m\u001b[0;34m(\u001b[0m\u001b[0mlevel\u001b[0m\u001b[0;34m)\u001b[0m\u001b[0;34m\u001b[0m\u001b[0;34m\u001b[0m\u001b[0m\n\u001b[1;32m   1090\u001b[0m             result._data = result._data.rename_axis(f, axis=baxis, copy=copy,\n\u001b[0;32m-> 1091\u001b[0;31m                                                     level=level)\n\u001b[0m\u001b[1;32m   1092\u001b[0m             \u001b[0mresult\u001b[0m\u001b[0;34m.\u001b[0m\u001b[0m_clear_item_cache\u001b[0m\u001b[0;34m(\u001b[0m\u001b[0;34m)\u001b[0m\u001b[0;34m\u001b[0m\u001b[0;34m\u001b[0m\u001b[0m\n\u001b[1;32m   1093\u001b[0m \u001b[0;34m\u001b[0m\u001b[0m\n",
      "\u001b[0;32m/anaconda3/lib/python3.7/site-packages/pandas/core/internals/managers.py\u001b[0m in \u001b[0;36mrename_axis\u001b[0;34m(self, mapper, axis, copy, level)\u001b[0m\n\u001b[1;32m    169\u001b[0m         \"\"\"\n\u001b[1;32m    170\u001b[0m         \u001b[0mobj\u001b[0m \u001b[0;34m=\u001b[0m \u001b[0mself\u001b[0m\u001b[0;34m.\u001b[0m\u001b[0mcopy\u001b[0m\u001b[0;34m(\u001b[0m\u001b[0mdeep\u001b[0m\u001b[0;34m=\u001b[0m\u001b[0mcopy\u001b[0m\u001b[0;34m)\u001b[0m\u001b[0;34m\u001b[0m\u001b[0;34m\u001b[0m\u001b[0m\n\u001b[0;32m--> 171\u001b[0;31m         \u001b[0mobj\u001b[0m\u001b[0;34m.\u001b[0m\u001b[0mset_axis\u001b[0m\u001b[0;34m(\u001b[0m\u001b[0maxis\u001b[0m\u001b[0;34m,\u001b[0m \u001b[0m_transform_index\u001b[0m\u001b[0;34m(\u001b[0m\u001b[0mself\u001b[0m\u001b[0;34m.\u001b[0m\u001b[0maxes\u001b[0m\u001b[0;34m[\u001b[0m\u001b[0maxis\u001b[0m\u001b[0;34m]\u001b[0m\u001b[0;34m,\u001b[0m \u001b[0mmapper\u001b[0m\u001b[0;34m,\u001b[0m \u001b[0mlevel\u001b[0m\u001b[0;34m)\u001b[0m\u001b[0;34m)\u001b[0m\u001b[0;34m\u001b[0m\u001b[0;34m\u001b[0m\u001b[0m\n\u001b[0m\u001b[1;32m    172\u001b[0m         \u001b[0;32mreturn\u001b[0m \u001b[0mobj\u001b[0m\u001b[0;34m\u001b[0m\u001b[0;34m\u001b[0m\u001b[0m\n\u001b[1;32m    173\u001b[0m \u001b[0;34m\u001b[0m\u001b[0m\n",
      "\u001b[0;32m/anaconda3/lib/python3.7/site-packages/pandas/core/internals/managers.py\u001b[0m in \u001b[0;36m_transform_index\u001b[0;34m(index, func, level)\u001b[0m\n\u001b[1;32m   2002\u001b[0m         \u001b[0;32mreturn\u001b[0m \u001b[0mMultiIndex\u001b[0m\u001b[0;34m.\u001b[0m\u001b[0mfrom_tuples\u001b[0m\u001b[0;34m(\u001b[0m\u001b[0mitems\u001b[0m\u001b[0;34m,\u001b[0m \u001b[0mnames\u001b[0m\u001b[0;34m=\u001b[0m\u001b[0mindex\u001b[0m\u001b[0;34m.\u001b[0m\u001b[0mnames\u001b[0m\u001b[0;34m)\u001b[0m\u001b[0;34m\u001b[0m\u001b[0;34m\u001b[0m\u001b[0m\n\u001b[1;32m   2003\u001b[0m     \u001b[0;32melse\u001b[0m\u001b[0;34m:\u001b[0m\u001b[0;34m\u001b[0m\u001b[0;34m\u001b[0m\u001b[0m\n\u001b[0;32m-> 2004\u001b[0;31m         \u001b[0mitems\u001b[0m \u001b[0;34m=\u001b[0m \u001b[0;34m[\u001b[0m\u001b[0mfunc\u001b[0m\u001b[0;34m(\u001b[0m\u001b[0mx\u001b[0m\u001b[0;34m)\u001b[0m \u001b[0;32mfor\u001b[0m \u001b[0mx\u001b[0m \u001b[0;32min\u001b[0m \u001b[0mindex\u001b[0m\u001b[0;34m]\u001b[0m\u001b[0;34m\u001b[0m\u001b[0;34m\u001b[0m\u001b[0m\n\u001b[0m\u001b[1;32m   2005\u001b[0m         \u001b[0;32mreturn\u001b[0m \u001b[0mIndex\u001b[0m\u001b[0;34m(\u001b[0m\u001b[0mitems\u001b[0m\u001b[0;34m,\u001b[0m \u001b[0mname\u001b[0m\u001b[0;34m=\u001b[0m\u001b[0mindex\u001b[0m\u001b[0;34m.\u001b[0m\u001b[0mname\u001b[0m\u001b[0;34m,\u001b[0m \u001b[0mtupleize_cols\u001b[0m\u001b[0;34m=\u001b[0m\u001b[0;32mFalse\u001b[0m\u001b[0;34m)\u001b[0m\u001b[0;34m\u001b[0m\u001b[0;34m\u001b[0m\u001b[0m\n\u001b[1;32m   2006\u001b[0m \u001b[0;34m\u001b[0m\u001b[0m\n",
      "\u001b[0;32m/anaconda3/lib/python3.7/site-packages/pandas/core/internals/managers.py\u001b[0m in \u001b[0;36m<listcomp>\u001b[0;34m(.0)\u001b[0m\n\u001b[1;32m   2002\u001b[0m         \u001b[0;32mreturn\u001b[0m \u001b[0mMultiIndex\u001b[0m\u001b[0;34m.\u001b[0m\u001b[0mfrom_tuples\u001b[0m\u001b[0;34m(\u001b[0m\u001b[0mitems\u001b[0m\u001b[0;34m,\u001b[0m \u001b[0mnames\u001b[0m\u001b[0;34m=\u001b[0m\u001b[0mindex\u001b[0m\u001b[0;34m.\u001b[0m\u001b[0mnames\u001b[0m\u001b[0;34m)\u001b[0m\u001b[0;34m\u001b[0m\u001b[0;34m\u001b[0m\u001b[0m\n\u001b[1;32m   2003\u001b[0m     \u001b[0;32melse\u001b[0m\u001b[0;34m:\u001b[0m\u001b[0;34m\u001b[0m\u001b[0;34m\u001b[0m\u001b[0m\n\u001b[0;32m-> 2004\u001b[0;31m         \u001b[0mitems\u001b[0m \u001b[0;34m=\u001b[0m \u001b[0;34m[\u001b[0m\u001b[0mfunc\u001b[0m\u001b[0;34m(\u001b[0m\u001b[0mx\u001b[0m\u001b[0;34m)\u001b[0m \u001b[0;32mfor\u001b[0m \u001b[0mx\u001b[0m \u001b[0;32min\u001b[0m \u001b[0mindex\u001b[0m\u001b[0;34m]\u001b[0m\u001b[0;34m\u001b[0m\u001b[0;34m\u001b[0m\u001b[0m\n\u001b[0m\u001b[1;32m   2005\u001b[0m         \u001b[0;32mreturn\u001b[0m \u001b[0mIndex\u001b[0m\u001b[0;34m(\u001b[0m\u001b[0mitems\u001b[0m\u001b[0;34m,\u001b[0m \u001b[0mname\u001b[0m\u001b[0;34m=\u001b[0m\u001b[0mindex\u001b[0m\u001b[0;34m.\u001b[0m\u001b[0mname\u001b[0m\u001b[0;34m,\u001b[0m \u001b[0mtupleize_cols\u001b[0m\u001b[0;34m=\u001b[0m\u001b[0;32mFalse\u001b[0m\u001b[0;34m)\u001b[0m\u001b[0;34m\u001b[0m\u001b[0;34m\u001b[0m\u001b[0m\n\u001b[1;32m   2006\u001b[0m \u001b[0;34m\u001b[0m\u001b[0m\n",
      "\u001b[0;31mTypeError\u001b[0m: 'list' object is not callable"
     ]
    }
   ],
   "source": [
    "df.rename(columns, axis='columns')"
   ]
  },
  {
   "cell_type": "markdown",
   "metadata": {},
   "source": [
    "# Creating a Neural Network"
   ]
  },
  {
   "cell_type": "markdown",
   "metadata": {},
   "source": [
    "`Sequential` is referring to the neural networks we've observed. There are other neural network models that will go beyond this class."
   ]
  },
  {
   "cell_type": "code",
   "execution_count": 102,
   "metadata": {
    "ExecuteTime": {
     "end_time": "2019-06-18T16:18:13.126356Z",
     "start_time": "2019-06-18T16:18:13.090188Z"
    }
   },
   "outputs": [],
   "source": [
    "from keras.models import Sequential\n",
    "\n",
    "model = Sequential()"
   ]
  },
  {
   "cell_type": "markdown",
   "metadata": {},
   "source": [
    "The actual network; we can decide how many layers & nodes for each layer here as well as other hyperparameters like the activation function."
   ]
  },
  {
   "cell_type": "code",
   "execution_count": 103,
   "metadata": {
    "ExecuteTime": {
     "end_time": "2019-06-18T19:28:01.843032Z",
     "start_time": "2019-06-18T19:27:59.181321Z"
    }
   },
   "outputs": [],
   "source": [
    "from keras.layers import Dense\n",
    "\n",
    "model.add(Dense(units=4, activation='relu', input_dim=4))\n",
    "model.add(Dense(units=3, activation='softmax'))"
   ]
  },
  {
   "cell_type": "markdown",
   "metadata": {},
   "source": [
    "Compile the model to a form that the computer can more easily work with"
   ]
  },
  {
   "cell_type": "code",
   "execution_count": 104,
   "metadata": {
    "ExecuteTime": {
     "end_time": "2019-06-18T16:18:13.223984Z",
     "start_time": "2019-06-18T16:18:13.187420Z"
    }
   },
   "outputs": [],
   "source": [
    "model.compile(loss=keras.losses.categorical_crossentropy, \n",
    "              optimizer=optimizers.SGD(lr=0.001, momentum=0.9, nesterov=True))"
   ]
  },
  {
   "cell_type": "markdown",
   "metadata": {},
   "source": [
    "# Using the Model"
   ]
  },
  {
   "cell_type": "markdown",
   "metadata": {},
   "source": [
    "Using the model structure, we do sequences of feedfoward and then backpropagation to adjust the weights and biases (training/fitting)"
   ]
  },
  {
   "cell_type": "code",
   "execution_count": 105,
   "metadata": {
    "ExecuteTime": {
     "end_time": "2019-06-18T16:18:23.443468Z",
     "start_time": "2019-06-18T16:18:13.227101Z"
    },
    "scrolled": false
   },
   "outputs": [
    {
     "name": "stdout",
     "output_type": "stream",
     "text": [
      "Epoch 1/100\n",
      "90/90 [==============================] - 1s 15ms/step - loss: 1.8513\n",
      "Epoch 2/100\n",
      "90/90 [==============================] - 0s 119us/step - loss: 1.7942\n",
      "Epoch 3/100\n",
      "90/90 [==============================] - 0s 113us/step - loss: 1.7084\n",
      "Epoch 4/100\n",
      "90/90 [==============================] - 0s 111us/step - loss: 1.6252\n",
      "Epoch 5/100\n",
      "90/90 [==============================] - 0s 133us/step - loss: 1.5472\n",
      "Epoch 6/100\n",
      "90/90 [==============================] - 0s 141us/step - loss: 1.4716\n",
      "Epoch 7/100\n",
      "90/90 [==============================] - 0s 136us/step - loss: 1.4111\n",
      "Epoch 8/100\n",
      "90/90 [==============================] - 0s 127us/step - loss: 1.3499\n",
      "Epoch 9/100\n",
      "90/90 [==============================] - 0s 124us/step - loss: 1.3008\n",
      "Epoch 10/100\n",
      "90/90 [==============================] - 0s 131us/step - loss: 1.2625\n",
      "Epoch 11/100\n",
      "90/90 [==============================] - 0s 132us/step - loss: 1.2259\n",
      "Epoch 12/100\n",
      "90/90 [==============================] - 0s 130us/step - loss: 1.1934\n",
      "Epoch 13/100\n",
      "90/90 [==============================] - 0s 129us/step - loss: 1.1658\n",
      "Epoch 14/100\n",
      "90/90 [==============================] - 0s 131us/step - loss: 1.1398\n",
      "Epoch 15/100\n",
      "90/90 [==============================] - 0s 141us/step - loss: 1.1184\n",
      "Epoch 16/100\n",
      "90/90 [==============================] - 0s 136us/step - loss: 1.0983\n",
      "Epoch 17/100\n",
      "90/90 [==============================] - 0s 134us/step - loss: 1.0783\n",
      "Epoch 18/100\n",
      "90/90 [==============================] - 0s 136us/step - loss: 1.0611\n",
      "Epoch 19/100\n",
      "90/90 [==============================] - 0s 132us/step - loss: 1.0457\n",
      "Epoch 20/100\n",
      "90/90 [==============================] - 0s 129us/step - loss: 1.0299\n",
      "Epoch 21/100\n",
      "90/90 [==============================] - 0s 151us/step - loss: 1.0171\n",
      "Epoch 22/100\n",
      "90/90 [==============================] - 0s 112us/step - loss: 1.0029\n",
      "Epoch 23/100\n",
      "90/90 [==============================] - 0s 128us/step - loss: 0.9905\n",
      "Epoch 24/100\n",
      "90/90 [==============================] - 0s 139us/step - loss: 0.9782\n",
      "Epoch 25/100\n",
      "90/90 [==============================] - 0s 122us/step - loss: 0.9668\n",
      "Epoch 26/100\n",
      "90/90 [==============================] - 0s 125us/step - loss: 0.9558\n",
      "Epoch 27/100\n",
      "90/90 [==============================] - 0s 127us/step - loss: 0.9452\n",
      "Epoch 28/100\n",
      "90/90 [==============================] - 0s 139us/step - loss: 0.9346\n",
      "Epoch 29/100\n",
      "90/90 [==============================] - 0s 117us/step - loss: 0.9247\n",
      "Epoch 30/100\n",
      "90/90 [==============================] - 0s 127us/step - loss: 0.9154\n",
      "Epoch 31/100\n",
      "90/90 [==============================] - 0s 125us/step - loss: 0.9060\n",
      "Epoch 32/100\n",
      "90/90 [==============================] - 0s 120us/step - loss: 0.8969\n",
      "Epoch 33/100\n",
      "90/90 [==============================] - 0s 123us/step - loss: 0.8884\n",
      "Epoch 34/100\n",
      "90/90 [==============================] - 0s 135us/step - loss: 0.8800\n",
      "Epoch 35/100\n",
      "90/90 [==============================] - 0s 111us/step - loss: 0.8717\n",
      "Epoch 36/100\n",
      "90/90 [==============================] - 0s 174us/step - loss: 0.8638\n",
      "Epoch 37/100\n",
      "90/90 [==============================] - 0s 139us/step - loss: 0.8561\n",
      "Epoch 38/100\n",
      "90/90 [==============================] - 0s 116us/step - loss: 0.8487\n",
      "Epoch 39/100\n",
      "90/90 [==============================] - 0s 124us/step - loss: 0.8412\n",
      "Epoch 40/100\n",
      "90/90 [==============================] - 0s 113us/step - loss: 0.8340\n",
      "Epoch 41/100\n",
      "90/90 [==============================] - 0s 142us/step - loss: 0.8271\n",
      "Epoch 42/100\n",
      "90/90 [==============================] - 0s 111us/step - loss: 0.8204\n",
      "Epoch 43/100\n",
      "90/90 [==============================] - 0s 117us/step - loss: 0.8136\n",
      "Epoch 44/100\n",
      "90/90 [==============================] - 0s 126us/step - loss: 0.8069\n",
      "Epoch 45/100\n",
      "90/90 [==============================] - 0s 122us/step - loss: 0.8005\n",
      "Epoch 46/100\n",
      "90/90 [==============================] - 0s 124us/step - loss: 0.7942\n",
      "Epoch 47/100\n",
      "90/90 [==============================] - 0s 110us/step - loss: 0.7880\n",
      "Epoch 48/100\n",
      "90/90 [==============================] - 0s 131us/step - loss: 0.7817\n",
      "Epoch 49/100\n",
      "90/90 [==============================] - 0s 112us/step - loss: 0.7758\n",
      "Epoch 50/100\n",
      "90/90 [==============================] - 0s 128us/step - loss: 0.7698\n",
      "Epoch 51/100\n",
      "90/90 [==============================] - 0s 108us/step - loss: 0.7640\n",
      "Epoch 52/100\n",
      "90/90 [==============================] - 0s 122us/step - loss: 0.7584\n",
      "Epoch 53/100\n",
      "90/90 [==============================] - 0s 104us/step - loss: 0.7527\n",
      "Epoch 54/100\n",
      "90/90 [==============================] - 0s 145us/step - loss: 0.7471\n",
      "Epoch 55/100\n",
      "90/90 [==============================] - 0s 135us/step - loss: 0.7417\n",
      "Epoch 56/100\n",
      "90/90 [==============================] - 0s 124us/step - loss: 0.7364\n",
      "Epoch 57/100\n",
      "90/90 [==============================] - 0s 101us/step - loss: 0.7312\n",
      "Epoch 58/100\n",
      "90/90 [==============================] - 0s 122us/step - loss: 0.7260\n",
      "Epoch 59/100\n",
      "90/90 [==============================] - 0s 114us/step - loss: 0.7210\n",
      "Epoch 60/100\n",
      "90/90 [==============================] - 0s 124us/step - loss: 0.7158\n",
      "Epoch 61/100\n",
      "90/90 [==============================] - 0s 109us/step - loss: 0.7108\n",
      "Epoch 62/100\n",
      "90/90 [==============================] - 0s 137us/step - loss: 0.7058\n",
      "Epoch 63/100\n",
      "90/90 [==============================] - 0s 109us/step - loss: 0.7008\n",
      "Epoch 64/100\n",
      "90/90 [==============================] - 0s 121us/step - loss: 0.6961\n",
      "Epoch 65/100\n",
      "90/90 [==============================] - 0s 114us/step - loss: 0.6911\n",
      "Epoch 66/100\n",
      "90/90 [==============================] - 0s 122us/step - loss: 0.6862\n",
      "Epoch 67/100\n",
      "90/90 [==============================] - 0s 113us/step - loss: 0.6818\n",
      "Epoch 68/100\n",
      "90/90 [==============================] - 0s 105us/step - loss: 0.6769\n",
      "Epoch 69/100\n",
      "90/90 [==============================] - 0s 119us/step - loss: 0.6724\n",
      "Epoch 70/100\n",
      "90/90 [==============================] - 0s 109us/step - loss: 0.6678\n",
      "Epoch 71/100\n",
      "90/90 [==============================] - 0s 121us/step - loss: 0.6633\n",
      "Epoch 72/100\n",
      "90/90 [==============================] - 0s 117us/step - loss: 0.6588\n",
      "Epoch 73/100\n",
      "90/90 [==============================] - 0s 91us/step - loss: 0.6544\n",
      "Epoch 74/100\n",
      "90/90 [==============================] - 0s 125us/step - loss: 0.6502\n",
      "Epoch 75/100\n",
      "90/90 [==============================] - 0s 106us/step - loss: 0.6459\n",
      "Epoch 76/100\n",
      "90/90 [==============================] - 0s 105us/step - loss: 0.6416\n",
      "Epoch 77/100\n",
      "90/90 [==============================] - 0s 121us/step - loss: 0.6375\n",
      "Epoch 78/100\n",
      "90/90 [==============================] - 0s 104us/step - loss: 0.6334\n",
      "Epoch 79/100\n",
      "90/90 [==============================] - 0s 123us/step - loss: 0.6293\n",
      "Epoch 80/100\n",
      "90/90 [==============================] - 0s 108us/step - loss: 0.6252\n",
      "Epoch 81/100\n",
      "90/90 [==============================] - 0s 117us/step - loss: 0.6211\n",
      "Epoch 82/100\n",
      "90/90 [==============================] - 0s 118us/step - loss: 0.6172\n",
      "Epoch 83/100\n",
      "90/90 [==============================] - 0s 103us/step - loss: 0.6133\n",
      "Epoch 84/100\n",
      "90/90 [==============================] - 0s 123us/step - loss: 0.6093\n",
      "Epoch 85/100\n",
      "90/90 [==============================] - 0s 112us/step - loss: 0.6054\n",
      "Epoch 86/100\n",
      "90/90 [==============================] - 0s 103us/step - loss: 0.6018\n",
      "Epoch 87/100\n",
      "90/90 [==============================] - 0s 132us/step - loss: 0.5978\n",
      "Epoch 88/100\n",
      "90/90 [==============================] - 0s 108us/step - loss: 0.5939\n",
      "Epoch 89/100\n",
      "90/90 [==============================] - 0s 154us/step - loss: 0.5903\n",
      "Epoch 90/100\n",
      "90/90 [==============================] - 0s 137us/step - loss: 0.5867\n",
      "Epoch 91/100\n",
      "90/90 [==============================] - 0s 120us/step - loss: 0.5830\n",
      "Epoch 92/100\n",
      "90/90 [==============================] - 0s 109us/step - loss: 0.5797\n",
      "Epoch 93/100\n",
      "90/90 [==============================] - 0s 128us/step - loss: 0.5761\n",
      "Epoch 94/100\n",
      "90/90 [==============================] - 0s 107us/step - loss: 0.5727\n",
      "Epoch 95/100\n",
      "90/90 [==============================] - 0s 111us/step - loss: 0.5694\n",
      "Epoch 96/100\n",
      "90/90 [==============================] - 0s 135us/step - loss: 0.5660\n",
      "Epoch 97/100\n",
      "90/90 [==============================] - 0s 115us/step - loss: 0.5628\n",
      "Epoch 98/100\n",
      "90/90 [==============================] - 0s 113us/step - loss: 0.5595\n",
      "Epoch 99/100\n",
      "90/90 [==============================] - 0s 132us/step - loss: 0.5563\n",
      "Epoch 100/100\n",
      "90/90 [==============================] - 0s 107us/step - loss: 0.5533\n"
     ]
    }
   ],
   "source": [
    "history = model.fit(x_train, y_train, epochs=100, batch_size=16, verbose=1)"
   ]
  },
  {
   "cell_type": "code",
   "execution_count": 110,
   "metadata": {},
   "outputs": [
    {
     "data": {
      "image/png": "[encoded data removed]",
      "text/plain": [
       "<Figure size 936x576 with 1 Axes>"
      ]
     },
     "metadata": {
      "needs_background": "light"
     },
     "output_type": "display_data"
    }
   ],
   "source": [
    "def plot_history(history, figsize=(13, 8), color='purple', s=50, alpha=0.5):\n",
    "    plt.figure(figsize=figsize)\n",
    "    plt.grid(zorder=0, linestyle='--')\n",
    "    plt.scatter(history.epoch, history.history[\"loss\"], c=color, s=s, alpha=alpha)\n",
    "    plt.xlabel(\"epochs\")\n",
    "    plt.ylabel(\"loss\")\n",
    "    plt.show()\n",
    "    \n",
    "    \n",
    "plot_history(history)"
   ]
  },
  {
   "cell_type": "code",
   "execution_count": 111,
   "metadata": {},
   "outputs": [
    {
     "name": "stdout",
     "output_type": "stream",
     "text": [
      "_________________________________________________________________\n",
      "Layer (type)                 Output Shape              Param #   \n",
      "=================================================================\n",
      "dense_31 (Dense)             (None, 4)                 20        \n",
      "_________________________________________________________________\n",
      "dense_32 (Dense)             (None, 4)                 20        \n",
      "_________________________________________________________________\n",
      "dense_33 (Dense)             (None, 3)                 15        \n",
      "=================================================================\n",
      "Total params: 55\n",
      "Trainable params: 55\n",
      "Non-trainable params: 0\n",
      "_________________________________________________________________\n"
     ]
    }
   ],
   "source": [
    "### Let's build a new model and add another layer\n",
    "model_mlp = Sequential()\n",
    "\n",
    "model_mlp.add(Dense(input_dim=4, units=4, activation='relu'))\n",
    "model_mlp.add(Dense(units=4, activation='relu'))\n",
    "model_mlp.add(Dense(units=3, activation='softmax'))\n",
    "\n",
    "model_mlp.summary()"
   ]
  },
  {
   "cell_type": "code",
   "execution_count": 112,
   "metadata": {},
   "outputs": [
    {
     "data": {
      "text/plain": [
       "<matplotlib.collections.PathCollection at 0x1a3a54e9b0>"
      ]
     },
     "execution_count": 112,
     "metadata": {},
     "output_type": "execute_result"
    },
    {
     "data": {
      "image/png": "[encoded data removed]",
      "text/plain": [
       "<Figure size 432x288 with 1 Axes>"
      ]
     },
     "metadata": {
      "needs_background": "light"
     },
     "output_type": "display_data"
    }
   ],
   "source": [
    "model_mlp.compile(loss=keras.losses.categorical_crossentropy, \n",
    "              optimizer=optimizers.SGD(lr=0.001, momentum=0.9, nesterov=True))\n",
    "\n",
    "history = model_mlp.fit(x_train, y_train, epochs=100, batch_size=16, verbose=0)\n",
    "plt.scatter(history.epoch, history.history[\"loss\"])"
   ]
  },
  {
   "cell_type": "code",
   "execution_count": 75,
   "metadata": {},
   "outputs": [],
   "source": [
    "optimizer_dict = {\"adam_001\": {\"optimizer\": optimizers.Adam(), \"color\": \"blue\"},\n",
    "                  \"adam_01\": {\"optimizer\": optimizers.Adam(lr=0.01), \"color\": \"orange\"},\n",
    "                  \"sgd_nag\": {\"optimizer\": optimizers.SGD(lr=0.001, momentum=0.9, nesterov=True), \"color\": \"pink\"},\n",
    "                  \"sgd\": {\"optimizer\": optimizers.SGD(lr=0.001), \"color\": \"red\"},\n",
    "                  \"adagrad\": {\"optimizer\": optimizers.Adagrad(), \"color\": \"yellow\"},\n",
    "                  \"adadelta\": {\"optimizer\": optimizers.Adadelta(), \"color\": \"teal\"}}\n",
    "\n"
   ]
  },
  {
   "cell_type": "code",
   "execution_count": 76,
   "metadata": {},
   "outputs": [
    {
     "name": "stdout",
     "output_type": "stream",
     "text": [
      "Finished fitting adam_001 optimizer\n",
      "Finished fitting adam_01 optimizer\n",
      "Finished fitting sgd_nag optimizer\n",
      "Finished fitting sgd optimizer\n",
      "Finished fitting adagrad optimizer\n",
      "Finished fitting adadelta optimizer\n"
     ]
    }
   ],
   "source": [
    "for label, optimizer in optimizer_dict.items():\n",
    "    # Build Model\n",
    "    model = Sequential()\n",
    "    model.add(Dense(units=4, activation='relu', input_dim=4))\n",
    "    model.add(Dense(units=3, activation='softmax'))\n",
    "    \n",
    "    # compile model\n",
    "    model.compile(loss=keras.losses.categorical_crossentropy, optimizer=optimizer['optimizer'])\n",
    "    \n",
    "    # train our model and get our history\n",
    "    history = model.fit(x_train, y_train, epochs=30, batch_size=16, verbose=0)\n",
    "    \n",
    "    # store history to our dictionary\n",
    "    optimizer_dict[label]['history'] = history\n",
    "    print(f\"Finished fitting {label} optimizer\")"
   ]
  },
  {
   "cell_type": "code",
   "execution_count": 77,
   "metadata": {},
   "outputs": [
    {
     "name": "stdout",
     "output_type": "stream",
     "text": [
      "[0.04640524879925781, 0.045607525524165894, 0.044816846566067804, 0.04406960581739743, 0.043331541700495614, 0.042654947067300476, 0.04198370907041762, 0.04134733254710833, 0.04072702369756169, 0.040095601148075526, 0.039514900205863845, 0.038957615858978695, 0.038385314494371416, 0.037849172039164436, 0.03731388201316198, 0.03680623314446873, 0.03629430904984474, 0.03580346902211507, 0.03534379013710552, 0.03487841884295146, 0.0344382293522358, 0.033995377872553134, 0.03356133765644497, 0.03313358798623085, 0.032736242810885115, 0.03233198672533035, 0.03195479628112581, 0.031570883964498836, 0.0311877503991127, 0.030829539977841908]\n",
      "[0.028932872745725844, 0.02505389584435357, 0.022147601884272363, 0.01963811201146907, 0.017682903580781485, 0.015874392456478544, 0.014460977870557043, 0.013149045449164178, 0.012057907858656512, 0.01119817186974817, 0.010294980721341239, 0.009549889175428285, 0.008941159656064377, 0.008307640409717957, 0.007778226646284262, 0.007301176846441295, 0.006871558705137836, 0.0065099394673274625, 0.006168034341600206, 0.005827133711944852, 0.005526061997645431, 0.005241668017374144, 0.005002025411360794, 0.004768435129274925, 0.004546412447881367, 0.004350807952384154, 0.004169209125555224, 0.003989735214660565, 0.003831561716894309, 0.003673320460236735]\n",
      "[0.003589760100779434, 0.003589180153277185, 0.0035883384860224193, 0.0035873834871583514, 0.0035863347868952487, 0.003585183510505077, 0.0035841368345750704, 0.0035829924667874972, 0.0035818415021316875, 0.0035807794580856958, 0.003579623102106982, 0.0035784395256390172, 0.0035773677234020498, 0.0035762808803055024, 0.003575206134054396, 0.0035740746185183524, 0.0035730111516184275, 0.0035718858112684555, 0.0035707908579044874, 0.0035697222583823732, 0.003568530268967152, 0.0035674849680314463, 0.003566278496550189, 0.0035651929366091887, 0.003564021358680394, 0.003562931799226337, 0.003561830427497625, 0.0035607239852348963, 0.0035597773120065943, 0.0035585010941657754]\n",
      "[0.0035578339567614928, 0.0035577162065439753, 0.0035576077074640326, 0.003557492694300082, 0.0035573869115776485, 0.003557276404980156, 0.003557169432234433, 0.0035570628630618253, 0.0035569536499679088, 0.003556837203601996, 0.0035567261278629304, 0.003556619682866666, 0.0035565171908173297, 0.0035564232824577225, 0.0035562994579474132, 0.003556191031303671, 0.0035560797486040327, 0.003555967720846335, 0.003555845877983504, 0.0035557368201100162, 0.0035556322791510156, 0.003555525177054935, 0.003555417402336995, 0.0035553070509599313, 0.003555199938515822, 0.0035550827425645873, 0.0035549818020727897, 0.0035548711712989544, 0.0035547667493422827, 0.003554652848591407]\n",
      "[0.0034422107144362396, 0.0032679150708847574, 0.003158580439372195, 0.0030773037527170445, 0.0030083036981523037, 0.0029498069547116757, 0.0028961346846901707, 0.0028487442268265617, 0.002806467531869809, 0.0027650607439378898, 0.0027284122977612748, 0.002695365497169809, 0.002664067127948834, 0.0026344534734057054, 0.0026046039847036203, 0.002575652441009879, 0.0025497332577490146, 0.0025242836732003423, 0.002499532565060589, 0.002474924890945355, 0.0024521833958311215, 0.002430159960769945, 0.002408978017047048, 0.0023881763737234806, 0.0023682498631791937, 0.002349313193311294, 0.0023303234639267126, 0.0023129643303238683, 0.002295393527795871, 0.0022783055409996045]\n",
      "[0.0022582572677897084, 0.0022336400139869915, 0.0022090612134585776, 0.0021844682128479083, 0.002161382146490117, 0.0021381796699845128, 0.0021145921252253984, 0.0020919090499066646, 0.002068888923774163, 0.0020464867948450974, 0.0020244029143618213, 0.002002139793088039, 0.001979518461868995, 0.0019590608879095977, 0.001937863124637968, 0.001917665410372946, 0.0018971250858157874, 0.0018772197369900014, 0.0018573920824564993, 0.001838753946746389, 0.0018198831491948416, 0.0018009886714733308, 0.0017832434089440439, 0.0017655885416186518, 0.0017476741793668931, 0.00172966496191091, 0.0017121421263760163, 0.0016959888588947555, 0.0016793619867207276, 0.0016628457078089317]\n"
     ]
    },
    {
     "data": {
      "image/png": "[encoded data removed]",
      "text/plain": [
       "<Figure size 1440x720 with 1 Axes>"
      ]
     },
     "metadata": {
      "needs_background": "light"
     },
     "output_type": "display_data"
    }
   ],
   "source": [
    "plt.figure(figsize=(20, 10))\n",
    "for label, optdict in optimizer_dict.items():\n",
    "    history = optdict['history']\n",
    "    color = optdict[\"color\"]\n",
    "    plt.scatter(history.epoch, history.history[\"loss\"], alpha=0.5, color=color, label=label, s=100)\n",
    "    print(history.history[\"loss\"])\n",
    "plt.legend()\n",
    "plt.title(\"Loss vs Epoch\\nFor Various Optimizers\")\n",
    "plt.show()"
   ]
  },
  {
   "cell_type": "code",
   "execution_count": 8,
   "metadata": {
    "ExecuteTime": {
     "end_time": "2019-06-18T19:31:59.446967Z",
     "start_time": "2019-06-18T19:31:59.444674Z"
    },
    "scrolled": false
   },
   "outputs": [],
   "source": [
    "# alternatively could have specified a specific batch to train on\n",
    "# model.train_on_batch(x_batch, y_batch)"
   ]
  },
  {
   "cell_type": "markdown",
   "metadata": {},
   "source": [
    "# Evaluating the Trained Model"
   ]
  },
  {
   "cell_type": "markdown",
   "metadata": {},
   "source": [
    "We can look at the overall loss from our test data after training the model was trained"
   ]
  },
  {
   "cell_type": "code",
   "execution_count": 18,
   "metadata": {
    "ExecuteTime": {
     "end_time": "2019-06-18T16:18:23.607022Z",
     "start_time": "2019-06-18T16:18:23.453388Z"
    }
   },
   "outputs": [
    {
     "name": "stdout",
     "output_type": "stream",
     "text": [
      "60/60 [==============================] - 0s 38us/step\n"
     ]
    },
    {
     "data": {
      "text/plain": [
       "0.12374646763006845"
      ]
     },
     "execution_count": 18,
     "metadata": {},
     "output_type": "execute_result"
    }
   ],
   "source": [
    "# Could also just use a batch to evaluate\n",
    "# loss_and_metrics = model.evaluate(x_test, y_test, batch_size=16)\n",
    "loss_and_metrics = model.evaluate(x_test, y_test)\n",
    "\n",
    "loss_and_metrics"
   ]
  },
  {
   "cell_type": "markdown",
   "metadata": {},
   "source": [
    "We can have predictions (probability the data point is a particular class based on our trained model)"
   ]
  },
  {
   "cell_type": "code",
   "execution_count": 20,
   "metadata": {
    "ExecuteTime": {
     "end_time": "2019-06-18T16:18:23.701142Z",
     "start_time": "2019-06-18T16:18:23.613540Z"
    },
    "scrolled": true
   },
   "outputs": [
    {
     "data": {
      "text/plain": [
       "array([[9.83704627e-01, 1.57465991e-02, 5.48841897e-04],\n",
       "       [9.88414645e-01, 1.13545572e-02, 2.30795253e-04],\n",
       "       [4.83600445e-07, 2.06313543e-02, 9.79368210e-01],\n",
       "       [9.77884471e-01, 2.18411200e-02, 2.74449092e-04],\n",
       "       [9.82576132e-01, 1.67746786e-02, 6.49187947e-04],\n",
       "       [2.56978660e-06, 3.25491428e-01, 6.74505949e-01],\n",
       "       [9.41820860e-01, 5.75792976e-02, 5.99891879e-04],\n",
       "       [5.99075367e-09, 2.19367836e-02, 9.78063285e-01],\n",
       "       [3.57025236e-08, 3.38154845e-03, 9.96618390e-01],\n",
       "       [9.73767519e-01, 2.58436427e-02, 3.88930697e-04],\n",
       "       [9.68435526e-01, 2.88138203e-02, 2.75061140e-03],\n",
       "       [9.88783300e-01, 1.10043641e-02, 2.12443832e-04],\n",
       "       [9.83923614e-01, 1.55458329e-02, 5.30468358e-04],\n",
       "       [9.51825023e-01, 4.10227664e-02, 7.15221046e-03],\n",
       "       [9.16416869e-02, 8.26131165e-01, 8.22270438e-02],\n",
       "       [6.93665788e-05, 8.83402765e-01, 1.16527863e-01],\n",
       "       [5.03755331e-01, 4.96100485e-01, 1.44240723e-04],\n",
       "       [9.63902846e-03, 9.85324323e-01, 5.03661809e-03],\n",
       "       [4.42761348e-08, 2.06623125e-04, 9.99793351e-01],\n",
       "       [9.45369771e-04, 9.95404840e-01, 3.64982267e-03],\n",
       "       [5.08855992e-05, 4.53404278e-01, 5.46544850e-01],\n",
       "       [5.77050145e-04, 9.90393937e-01, 9.02898517e-03],\n",
       "       [1.17089712e-06, 2.21152790e-03, 9.97787237e-01],\n",
       "       [2.60339980e-03, 9.92124498e-01, 5.27219381e-03],\n",
       "       [4.44414127e-06, 9.85383391e-01, 1.46121578e-02],\n",
       "       [9.86478984e-01, 1.31786345e-02, 3.42352490e-04],\n",
       "       [9.86567080e-01, 1.30962031e-02, 3.36710451e-04],\n",
       "       [1.87942089e-04, 2.39982039e-01, 7.59829998e-01],\n",
       "       [9.64377403e-01, 3.19808982e-02, 3.64163797e-03],\n",
       "       [1.99199667e-06, 6.88752457e-02, 9.31122780e-01],\n",
       "       [2.14602624e-05, 2.13463008e-01, 7.86515534e-01],\n",
       "       [9.76764619e-01, 2.19133589e-02, 1.32204627e-03],\n",
       "       [3.34405862e-02, 9.62525070e-01, 4.03436972e-03],\n",
       "       [5.50731386e-07, 1.69824599e-03, 9.98301208e-01],\n",
       "       [2.78390720e-02, 9.16741252e-01, 5.54197282e-02],\n",
       "       [9.39636827e-01, 4.88262288e-02, 1.15369605e-02],\n",
       "       [1.22564154e-08, 1.33790495e-03, 9.98662114e-01],\n",
       "       [2.13331240e-03, 9.60410118e-01, 3.74566205e-02],\n",
       "       [1.73169523e-04, 9.95753884e-01, 4.07299818e-03],\n",
       "       [1.86750242e-07, 3.37167294e-03, 9.96628106e-01],\n",
       "       [1.20801851e-03, 9.17537749e-01, 8.12542662e-02],\n",
       "       [1.23814191e-03, 9.90663409e-01, 8.09848867e-03],\n",
       "       [4.45241781e-08, 7.42364558e-04, 9.99257624e-01],\n",
       "       [5.97350858e-03, 9.93600011e-01, 4.26537648e-04],\n",
       "       [9.82691228e-01, 1.66702271e-02, 6.38506957e-04],\n",
       "       [1.18142971e-05, 7.10111022e-01, 2.89877146e-01],\n",
       "       [9.77939188e-01, 2.08961889e-02, 1.16467592e-03],\n",
       "       [1.04701181e-03, 9.81998801e-01, 1.69542022e-02],\n",
       "       [9.77192461e-01, 2.15441249e-02, 1.26346026e-03],\n",
       "       [9.75659370e-01, 2.28605364e-02, 1.48010976e-03],\n",
       "       [9.70673740e-01, 2.70130765e-02, 2.31322739e-03],\n",
       "       [1.31547637e-03, 6.75969779e-01, 3.22714716e-01],\n",
       "       [1.40663687e-05, 2.46956781e-03, 9.97516394e-01],\n",
       "       [7.64302058e-06, 2.17228495e-02, 9.78269458e-01],\n",
       "       [9.74816382e-01, 2.35764440e-02, 1.60717429e-03],\n",
       "       [1.88936902e-08, 4.31532331e-04, 9.99568403e-01],\n",
       "       [1.78247990e-06, 6.69356261e-04, 9.99328852e-01],\n",
       "       [3.33779865e-10, 1.01982080e-03, 9.98980105e-01],\n",
       "       [1.18763933e-06, 7.26437569e-01, 2.73561269e-01],\n",
       "       [9.91783619e-01, 8.12119246e-03, 9.52133851e-05]], dtype=float32)"
      ]
     },
     "execution_count": 20,
     "metadata": {},
     "output_type": "execute_result"
    }
   ],
   "source": [
    "probs = model.predict(x_test)\n",
    "probs"
   ]
  },
  {
   "cell_type": "code",
   "execution_count": null,
   "metadata": {},
   "outputs": [],
   "source": []
  },
  {
   "cell_type": "markdown",
   "metadata": {},
   "source": [
    "We want to say what is the predicted class, so we pick just the largest probability for each result"
   ]
  },
  {
   "cell_type": "code",
   "execution_count": 11,
   "metadata": {
    "ExecuteTime": {
     "end_time": "2019-06-18T16:18:23.706830Z",
     "start_time": "2019-06-18T16:18:23.703922Z"
    }
   },
   "outputs": [
    {
     "data": {
      "text/plain": [
       "array([0, 0, 2, 0, 0, 2, 0, 2, 2, 0, 0, 0, 0, 0, 1, 1, 1, 1, 2, 1, 2, 1,\n",
       "       2, 1, 1, 0, 0, 2, 0, 2, 2, 0, 1, 2, 1, 0, 2, 1, 1, 2, 1, 1, 2, 1,\n",
       "       0, 1, 0, 1, 0, 0, 0, 1, 2, 2, 0, 2, 2, 2, 1, 0])"
      ]
     },
     "execution_count": 11,
     "metadata": {},
     "output_type": "execute_result"
    }
   ],
   "source": [
    "predictions = np.argmax(classes, axis=1)\n",
    "\n",
    "predictions"
   ]
  },
  {
   "cell_type": "markdown",
   "metadata": {},
   "source": [
    "Finally, we can see how accurate our model was by seeing if the predicted classes match the actual labels. Note that this is calculated differently from how the loss is calculated."
   ]
  },
  {
   "cell_type": "code",
   "execution_count": 12,
   "metadata": {
    "ExecuteTime": {
     "end_time": "2019-06-18T16:18:23.715400Z",
     "start_time": "2019-06-18T16:18:23.708557Z"
    }
   },
   "outputs": [
    {
     "data": {
      "text/plain": [
       "array([0.91666667])"
      ]
     },
     "execution_count": 12,
     "metadata": {},
     "output_type": "execute_result"
    }
   ],
   "source": [
    "np.sum(predictions  == np.argmax(y_test, axis=1)) / predictions.shape"
   ]
  },
  {
   "cell_type": "markdown",
   "metadata": {},
   "source": [
    "### But Behold!!!! An out of the box RFC comes into the fold! "
   ]
  },
  {
   "cell_type": "code",
   "execution_count": 13,
   "metadata": {},
   "outputs": [],
   "source": [
    "from sklearn.ensemble import RandomForestClassifier"
   ]
  },
  {
   "cell_type": "code",
   "execution_count": 14,
   "metadata": {},
   "outputs": [],
   "source": [
    "clf = RandomForestClassifier()"
   ]
  },
  {
   "cell_type": "code",
   "execution_count": 15,
   "metadata": {},
   "outputs": [
    {
     "name": "stderr",
     "output_type": "stream",
     "text": [
      "/anaconda3/lib/python3.7/site-packages/sklearn/ensemble/forest.py:245: FutureWarning: The default value of n_estimators will change from 10 in version 0.20 to 100 in 0.22.\n",
      "  \"10 in version 0.20 to 100 in 0.22.\", FutureWarning)\n"
     ]
    },
    {
     "data": {
      "text/plain": [
       "RandomForestClassifier(bootstrap=True, class_weight=None, criterion='gini',\n",
       "                       max_depth=None, max_features='auto', max_leaf_nodes=None,\n",
       "                       min_impurity_decrease=0.0, min_impurity_split=None,\n",
       "                       min_samples_leaf=1, min_samples_split=2,\n",
       "                       min_weight_fraction_leaf=0.0, n_estimators=10,\n",
       "                       n_jobs=None, oob_score=False, random_state=None,\n",
       "                       verbose=0, warm_start=False)"
      ]
     },
     "execution_count": 15,
     "metadata": {},
     "output_type": "execute_result"
    }
   ],
   "source": [
    "clf.fit(x_train, y_train)"
   ]
  },
  {
   "cell_type": "code",
   "execution_count": 16,
   "metadata": {},
   "outputs": [
    {
     "data": {
      "text/plain": [
       "0.9166666666666666"
      ]
     },
     "execution_count": 16,
     "metadata": {},
     "output_type": "execute_result"
    }
   ],
   "source": [
    "clf.score(x_test, y_test)"
   ]
  },
  {
   "cell_type": "code",
   "execution_count": null,
   "metadata": {},
   "outputs": [],
   "source": []
  }
 ],
 "metadata": {
  "kernelspec": {
   "display_name": "Python 3",
   "language": "python",
   "name": "python3"
  },
  "language_info": {
   "codemirror_mode": {
    "name": "ipython",
    "version": 3
   },
   "file_extension": ".py",
   "mimetype": "text/x-python",
   "name": "python",
   "nbconvert_exporter": "python",
   "pygments_lexer": "ipython3",
   "version": "3.7.3"
  },
  "toc": {
   "base_numbering": 1,
   "nav_menu": {},
   "number_sections": true,
   "sideBar": true,
   "skip_h1_title": false,
   "title_cell": "Table of Contents",
   "title_sidebar": "Contents",
   "toc_cell": false,
   "toc_position": {},
   "toc_section_display": true,
   "toc_window_display": false
  },
  "varInspector": {
   "cols": {
    "lenName": 16,
    "lenType": 16,
    "lenVar": 40
   },
   "kernels_config": {
    "python": {
     "delete_cmd_postfix": "",
     "delete_cmd_prefix": "del ",
     "library": "var_list.py",
     "varRefreshCmd": "print(var_dic_list())"
    },
    "r": {
     "delete_cmd_postfix": ") ",
     "delete_cmd_prefix": "rm(",
     "library": "var_list.r",
     "varRefreshCmd": "cat(var_dic_list()) "
    }
   },
   "types_to_exclude": [
    "module",
    "function",
    "builtin_function_or_method",
    "instance",
    "_Feature"
   ],
   "window_display": false
  }
 },
 "nbformat": 4,
 "nbformat_minor": 2
}
